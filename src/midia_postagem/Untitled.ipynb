{
 "cells": [
  {
   "cell_type": "code",
   "execution_count": 1,
   "metadata": {},
   "outputs": [],
   "source": [
    "# coding: utf-8\n",
    "\n",
    "import sys\n",
    "sys.path.insert(0, '../../src')\n",
    "import feedparser\n",
    "import pandas as pd\n",
    "\n",
    "import urllib\n",
    "\n",
    "from postagem.Util import extract_domain, download_and_move_image, get_noticia_comercio\n",
    "from lexical_analyzer_package import midia_lexical\n",
    "from midia_postagem import midia_post\n",
    "from Model.News import News\n",
    "from Database import midia_table\n",
    "\n",
    "from newsplease import NewsPlease\n",
    "from bs4 import BeautifulSoup\n",
    "import requests\n",
    "\n",
    "import datetime"
   ]
  },
  {
   "cell_type": "code",
   "execution_count": 2,
   "metadata": {},
   "outputs": [],
   "source": [
    "link = 'https://www1.folha.uol.com.br/ultimas-noticias/'"
   ]
  },
  {
   "cell_type": "code",
   "execution_count": 3,
   "metadata": {},
   "outputs": [],
   "source": [
    "req = requests.get(link)"
   ]
  },
  {
   "cell_type": "code",
   "execution_count": 17,
   "metadata": {},
   "outputs": [],
   "source": [
    "noticias = BeautifulSoup(req.text, \"html.parser\").find_all('div', class_='flex-cell')"
   ]
  },
  {
   "cell_type": "code",
   "execution_count": 21,
   "metadata": {},
   "outputs": [
    {
     "name": "stdout",
     "output_type": "stream",
     "text": [
      "https://www1.folha.uol.com.br/mundo/2018/09/onu-lanca-estrategia-contra-escravidao-moderna-e-trafico-humano.shtml\n",
      "['ONU lança estratégia contra escravidão moderna e tráfico humano']\n",
      "news_in_db: False\n",
      " -- no categories -- \n",
      "https://www1.folha.uol.com.br/cotidiano/2018/09/tempo-para-travessia-em-semaforos-aumenta-em-12-vias-de-sao-paulo.shtml\n",
      "['Tempo para travessia em semáforos aumenta em 12 vias de São Paulo']\n",
      "news_in_db: False\n",
      " -- no categories -- \n"
     ]
    }
   ],
   "source": [
    "for noticia in noticias:\n",
    "    print(noticia.find_all('a', href=True)[0]['href'])\n",
    "    article = NewsPlease.from_url(noticia.find_all('a', href=True)[0]['href'])\n",
    "    row = {'titulos': [], 'links': [], 'noticia': [], 'image': [], 'abstract': [], 'date': []}\n",
    "    if (article is not None):\n",
    "        row['titulos'].append(article.title)\n",
    "        row['noticia'].append(article.text)\n",
    "        row['links'].append(article.url)\n",
    "        row['abstract'].append(article.text)\n",
    "        row['date'].append(article.date_publish)\n",
    "        path_image = article.image_url\n",
    "        if path_image == '' or path_image == None:\n",
    "            row['image'].append(0)\n",
    "        else:\n",
    "            row['image'].append(download_and_move_image(article.image_url))\n",
    "        news = News(row['abstract'], row['noticia'], row['date'], row['links'], row['titulos'], row['image'])\n",
    "        try:\n",
    "            print(row['titulos'])\n",
    "            news_in_db = midia_table.check_news(news)\n",
    "            print('news_in_db: ' + str(news_in_db))\n",
    "            if (not news_in_db):\n",
    "                row = pd.DataFrame(row)\n",
    "                df, categories = midia_lexical.lexical_corpus_and_title(row)\n",
    "                # DB categories\n",
    "                if (categories != [set()]):\n",
    "                    news.set_categories(categories)\n",
    "                    midia_table.save_news(news)\n",
    "                    midia_post.post_news(df)\n",
    "        except:\n",
    "            print('Empty News')"
   ]
  },
  {
   "cell_type": "code",
   "execution_count": 11,
   "metadata": {},
   "outputs": [
    {
     "data": {
      "text/plain": [
       "<div class=\"flex-cell\"><div class=\"row \"><div class=\"col col--xs-1-1 col--sm-1-1 col--md-1-1\">\n",
       "<!-- news-list -->\n",
       "<ol class=\"u-list-unstyled\">\n",
       "<li class=\"c-main-headline c-main-headline--horizontal\">\n",
       "<div class=\"c-main-headline__media-wrapper\">\n",
       "<div class=\"c-masked-image c-masked-image--3x2\">\n",
       "<a class=\"c-main-headline__url\" href=\"https://www1.folha.uol.com.br/mundo/2018/09/onu-lanca-estrategia-contra-escravidao-moderna-e-trafico-humano.shtml\">\n",
       "<img action=\"\" alt=\"UN Secretary-General Guterres speaks during \" at=\"\" call=\"\" class=\"c-main-headline__image\" drug=\"\" event=\"\" global=\"\" in=\"\" nations=\"\" new=\"\" on=\"\" problem\"=\"\" src=\"https://f.i.uol.com.br/fotografia/2018/09/24/15378217065ba94c0a7ce4b_1537821706_3x2_xs.jpg\" the=\"\" to=\"\" united=\"\" world=\"\" york\"=\"\"/>\n",
       "</a>\n",
       "</div>\n",
       "</div>\n",
       "<div class=\"c-main-headline__wrapper\">\n",
       "<div class=\"c-main-headline__head\">\n",
       "<h3 class=\"c-headline__kicker c-kicker\">\n",
       "                    Mundo\n",
       "\n",
       "            </h3>\n",
       "<div class=\"c-modal-drop c-headline__action\" data-modal-drop=\"\" data-qty-collumn=\"3.4\">\n",
       "<button class=\"c-modal-drop__trigger\" data-trigger=\"\" name=\"button\" type=\"button\">\n",
       "<svg class=\"icon icon--share \" height=\"24\" viewbox=\"0 0 16 16\" width=\"24\" xmlns=\"http://www.w3.org/2000/svg\">\n",
       "<path d=\"m 12.818311,11.294921 c 1.280064,0 2.333667,1.054406 2.333667,2.333668 0,1.279261 -1.054406,2.371411 -2.333667,2.371411 -1.279262,0 -2.333668,-1.09215 -2.333668,-2.371411 0,-0.187915 0,-0.377435 0.03774,-0.526802 L 4.8407964,9.789199 A 2.4252158,2.4252158 0 0 1 0.772537,8.020076 2.4252158,2.4252158 0 0 1 4.8383872,6.250954 L 10.48384,2.9761092 A 2.8974102,2.8974102 0 0 1 10.40915,2.4091547 C 10.40915,1.0921502 11.5013,0 12.818304,0 c 1.317008,0 2.409159,1.0921502 2.409159,2.4091547 0,1.3170047 -1.092151,2.4091553 -2.409155,2.4091553 -0.640032,0 -1.204577,-0.263401 -1.656695,-0.677776 L 5.5161598,7.453925 c 0.036941,0.187914 0.074684,0.377434 0.074684,0.564545 0,0.187111 -0.037744,0.377434 -0.075486,0.562137 l 5.7217422,3.31339 c 0.417587,-0.377434 0.979724,-0.602289 1.582012,-0.602289 z\"></path>\n",
       "</svg>\n",
       "<span class=\"u-visually-hidden\">Compartilhar nas redes sociais \"ONU lança estratégia contra escravidão moderna e tráfico humano\"</span>\n",
       "</button>\n",
       "<div aria-hidden=\"true\" class=\"c-modal-drop__content c-modal-drop__content--no-padding\" data-content=\"\" data-visibility=\"unset\">\n",
       "<div class=\"c-modal-drop__controls u-hidden-md\">\n",
       "<button class=\"c-modal-drop__close\" data-close=\"\">\n",
       "<svg class=\"icon icon--close icon--tiny \" height=\"24\" viewbox=\"0 0 16 16\" width=\"24\" xmlns=\"http://www.w3.org/2000/svg\">\n",
       "<path d=\"M16 1.61L14.39 0 8 6.39 1.61 0 0 1.61 6.39 8 0 14.39 1.61 16 8 9.61 14.39 16 16 14.39 9.61 8z\"></path>\n",
       "</svg>\n",
       "</button>\n",
       "</div>\n",
       "<div class=\"c-tools-share--larger\">\n",
       "<ul class=\"c-tools-share__list\" data-sharebar-buttons=\"facebook whatsapp twitter messenger googlePlus linkedIn pinterest email\" data-sharebar-text=\"ONU lança estratégia contra escravidão moderna e tráfico humano\" data-sharebar-uolpd-id=\"internal\" data-sharebar-url=\"https://www1.folha.uol.com.br/mundo/2018/09/onu-lanca-estrategia-contra-escravidao-moderna-e-trafico-humano.shtml\" data-sharebar-utm-campaign-prefix=\"comp\" data-triggered-byclick=\".c-modal-drop [data-trigger]\"></ul>\n",
       "</div>\n",
       "</div>\n",
       "</div>\n",
       "</div>\n",
       "<a class=\"c-main-headline__url\" href=\"https://www1.folha.uol.com.br/mundo/2018/09/onu-lanca-estrategia-contra-escravidao-moderna-e-trafico-humano.shtml\">\n",
       "<h2 class=\"c-main-headline__title\">ONU lanÃ§a estratÃ©gia contra escravidÃ£o moderna e trÃ¡fico humano</h2>\n",
       "<p class=\"c-main-headline__standfirst\">\n",
       "              Objetivo Ã© reunir financiamento do setor empresarial; jornalista Leonardo Sakamoto Ã© um dos comissÃ¡rios\n",
       "              </p>\n",
       "<time class=\"c-headline__dateline\" datetime=\"2018-09-24 17:50\" itemprop=\"datePublished\">\n",
       "              24.set.2018 Ã s 17h50\n",
       "            </time>\n",
       "</a>\n",
       "</div>\n",
       "</li>\n",
       "</ol>\n",
       "<!-- /news-list -->\n",
       "<!-- // -->\n",
       "</div></div></div>"
      ]
     },
     "execution_count": 11,
     "metadata": {},
     "output_type": "execute_result"
    }
   ],
   "source": [
    "noticias[0]"
   ]
  },
  {
   "cell_type": "code",
   "execution_count": null,
   "metadata": {},
   "outputs": [],
   "source": []
  }
 ],
 "metadata": {
  "kernelspec": {
   "display_name": "Python 3",
   "language": "python",
   "name": "python3"
  },
  "language_info": {
   "codemirror_mode": {
    "name": "ipython",
    "version": 3
   },
   "file_extension": ".py",
   "mimetype": "text/x-python",
   "name": "python",
   "nbconvert_exporter": "python",
   "pygments_lexer": "ipython3",
   "version": "3.6.6"
  }
 },
 "nbformat": 4,
 "nbformat_minor": 2
}
