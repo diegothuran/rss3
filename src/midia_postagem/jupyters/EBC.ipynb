{
 "cells": [
  {
   "cell_type": "code",
   "execution_count": 1,
   "metadata": {},
   "outputs": [],
   "source": [
    "import sys\n",
    "sys.path.insert(0, '../../src')\n",
    "import feedparser\n",
    "import pandas as pd\n",
    "\n",
    "import urllib\n",
    "\n",
    "from postagem.Util import extract_domain, download_and_move_image, get_noticia_comercio\n",
    "from lexical_analyzer_package import midia_lexical\n",
    "from midia_postagem import midia_post\n",
    "from Model.News import News\n",
    "from Database import midia_table\n",
    "\n",
    "from newsplease import NewsPlease\n",
    "from bs4 import BeautifulSoup\n",
    "import requests\n",
    "\n",
    "import datetime"
   ]
  },
  {
   "cell_type": "code",
   "execution_count": 2,
   "metadata": {},
   "outputs": [],
   "source": [
    "link = 'http://www.ebc.com.br'"
   ]
  },
  {
   "cell_type": "code",
   "execution_count": 3,
   "metadata": {},
   "outputs": [],
   "source": [
    "req = requests.get(link)"
   ]
  },
  {
   "cell_type": "code",
   "execution_count": 4,
   "metadata": {},
   "outputs": [],
   "source": [
    "noticias = BeautifulSoup(req.text, \"html.parser\").find_all('div', class_='cmpGeneric isoGrid-item col-lg-4 col-md-4 col-sm-12 col-xs-12')"
   ]
  },
  {
   "cell_type": "code",
   "execution_count": 5,
   "metadata": {},
   "outputs": [
    {
     "name": "stdout",
     "output_type": "stream",
     "text": [
      "http://agenciabrasil.ebc.com.br\n",
      "100% [................................................................................] 1150 / 1150['Agência Brasil']\n",
      "news_in_db: False\n",
      " -- no categories -- \n",
      "http://radioagencianacional.ebc.com.br\n",
      "100% [................................................................................] 1150 / 1150['Radioagência Nacional']\n",
      "news_in_db: False\n",
      " -- no categories -- \n",
      "http://radioagencianacional.ebc.com.br\n",
      "100% [................................................................................] 1150 / 1150['Radioagência Nacional']\n",
      "news_in_db: False\n",
      " -- no categories -- \n",
      "http://agenciabrasil.ebc.com.br/geral/noticia/2018-09/ciro-gomes-passa-por-procedimento-medico-e-deve-ter-alta-nesta-quarta\n",
      "['Ciro Gomes passa por procedimento médico e deve ter alta nesta quarta']\n",
      "news_in_db: False\n",
      " -- no categories -- \n",
      "http://agenciabrasil.ebc.com.br\n",
      "100% [................................................................................] 1150 / 1150['Agência Brasil']\n",
      "news_in_db: False\n",
      " -- no categories -- \n",
      "http://agenciabrasil.ebc.com.br\n",
      "100% [................................................................................] 1150 / 1150['Agência Brasil']\n",
      "news_in_db: False\n",
      " -- no categories -- \n",
      "http://radioagencianacional.ebc.com.br\n",
      "100% [................................................................................] 1150 / 1150['Radioagência Nacional']\n",
      "news_in_db: False\n",
      " -- no categories -- \n",
      "http://radioagencianacional.ebc.com.br\n",
      "100% [................................................................................] 1150 / 1150['Radioagência Nacional']\n",
      "news_in_db: False\n",
      " -- no categories -- \n",
      "http://radioagencianacional.ebc.com.br\n",
      "100% [................................................................................] 1150 / 1150['Radioagência Nacional']\n",
      "news_in_db: False\n",
      " -- no categories -- \n"
     ]
    }
   ],
   "source": [
    "for noticia in noticias:\n",
    "    print(noticia.find_all('a', href=True)[0]['href'])\n",
    "    article = NewsPlease.from_url(noticia.find_all('a', href=True)[0]['href'])\n",
    "    row = {'titulos': [], 'links': [], 'noticia': [], 'image': [], 'abstract': [], 'date': []}\n",
    "    if (article is not None):\n",
    "        row['titulos'].append(article.title)\n",
    "        row['noticia'].append(article.text)\n",
    "        row['links'].append(article.url)\n",
    "        row['abstract'].append(article.text)\n",
    "        row['date'].append(article.date_publish)\n",
    "        path_image = article.image_url\n",
    "        if path_image == '' or path_image == None:\n",
    "            row['image'].append(0)\n",
    "        else:\n",
    "            row['image'].append(download_and_move_image(article.image_url))\n",
    "        news = News(row['abstract'], row['noticia'], row['date'], row['links'], row['titulos'], row['image'])\n",
    "        try:\n",
    "            print(row['titulos'])\n",
    "            news_in_db = midia_table.check_news(news)\n",
    "            print('news_in_db: ' + str(news_in_db))\n",
    "            if (not news_in_db):\n",
    "                row = pd.DataFrame(row)\n",
    "                df, categories = midia_lexical.lexical_corpus_and_title(row)\n",
    "                # DB categories\n",
    "                if (categories != [set()]):\n",
    "                    news.set_categories(categories)\n",
    "                    midia_table.save_news(news)\n",
    "                    midia_post.post_news(df)\n",
    "        except:\n",
    "            print('Empty News')"
   ]
  },
  {
   "cell_type": "code",
   "execution_count": 6,
   "metadata": {},
   "outputs": [
    {
     "data": {
      "text/plain": [
       "<div class=\"cmpGeneric isoGrid-item col-lg-4 col-md-4 col-sm-12 col-xs-12\">\n",
       "<div class=\"bgWhite full shadow\">\n",
       "<hr class=\" edtJustica\"/>\n",
       "<h4 class=\"headband txtJustica\">\n",
       "<a href=\"http://agenciabrasil.ebc.com.br\" target=\"_blank\">Agência Brasil</a>\n",
       "</h4>\n",
       "<aside class=\"dtHourDay\">\n",
       "<span class=\"dtDay\">22h34 · 25/09</span>\n",
       "</aside>\n",
       "<h3 class=\"heading\">\n",
       "<a href=\"http://agenciabrasil.ebc.com.br/justica/noticia/2018-09/raquel-dodge-pede-ao-supremo-para-suspender-inquerito-sobre-temer\" target=\"_blank\" title=\"Raquel Dodge pede ao Supremo para suspender inquérito sobre Temer\">Raquel Dodge pede ao Supremo para suspender inquérito sobre Temer</a>\n",
       "</h3>\n",
       "</div>\n",
       "</div>"
      ]
     },
     "execution_count": 6,
     "metadata": {},
     "output_type": "execute_result"
    }
   ],
   "source": [
    ""
   ]
  }
 ],
 "metadata": {
  "kernelspec": {
   "display_name": "Python 3",
   "language": "python",
   "name": "python3"
  },
  "language_info": {
   "codemirror_mode": {
    "name": "ipython",
    "version": 3
   },
   "file_extension": ".py",
   "mimetype": "text/x-python",
   "name": "python",
   "nbconvert_exporter": "python",
   "pygments_lexer": "ipython3",
   "version": "3.6.5"
  }
 },
 "nbformat": 4,
 "nbformat_minor": 2
}
