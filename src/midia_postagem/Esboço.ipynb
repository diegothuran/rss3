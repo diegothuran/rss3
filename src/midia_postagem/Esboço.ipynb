{
 "cells": [
  {
   "cell_type": "code",
   "execution_count": 1,
   "metadata": {},
   "outputs": [],
   "source": [
    "import sys\n",
    "sys.path.insert(0, '../../src')\n",
    "import feedparser\n",
    "import pandas as pd\n",
    "\n",
    "import urllib\n",
    "\n",
    "from postagem.Util import extract_domain, download_and_move_image, get_noticia_comercio\n",
    "from lexical_analyzer_package import midia_lexical\n",
    "from midia_postagem import midia_post\n",
    "from Model.News import News\n",
    "from Database import midia_table\n",
    "\n",
    "from newsplease import NewsPlease\n",
    "from bs4 import BeautifulSoup\n",
    "import requests\n",
    "\n",
    "import datetime\n",
    "import util_midia"
   ]
  },
  {
   "cell_type": "code",
   "execution_count": 2,
   "metadata": {},
   "outputs": [],
   "source": [
    "link = 'http://www.vermelho.org.br/ultimas.php'"
   ]
  },
  {
   "cell_type": "code",
   "execution_count": 3,
   "metadata": {},
   "outputs": [],
   "source": [
    "link_site = 'http://www.vermelho.org.br/'"
   ]
  },
  {
   "cell_type": "code",
   "execution_count": 4,
   "metadata": {},
   "outputs": [],
   "source": [
    "req = requests.get(link)"
   ]
  },
  {
   "cell_type": "code",
   "execution_count": 5,
   "metadata": {},
   "outputs": [],
   "source": [
    "noticias = BeautifulSoup(req.text, \"html.parser\").find_all('article', class_='categoria_item ')"
   ]
  },
  {
   "cell_type": "code",
   "execution_count": 6,
   "metadata": {
    "scrolled": false
   },
   "outputs": [
    {
     "name": "stdout",
     "output_type": "stream",
     "text": [
      "noticia/316861-1\n",
      "http://www.vermelho.org.br/noticia/316861-1\n",
      "100% [..............................................................................] 71005 / 71005tim.php\n",
      "C:\\Users\\admin\\rss3\\src\\midia_postagem\\images\\tim.php\n",
      "['EUA mantêm cerca de 200 menores migrantes separados dos pais - Portal Vermelho']\n",
      "news_in_db: False\n",
      " -- no categories -- \n",
      "http://www.vermelho.org.br/noticia/316861-1\n",
      "noticia/316860-1\n",
      "http://www.vermelho.org.br/noticia/316860-1\n"
     ]
    },
    {
     "name": "stderr",
     "output_type": "stream",
     "text": [
      "Some characters could not be decoded, and were replaced with REPLACEMENT CHARACTER.\n"
     ]
    },
    {
     "name": "stdout",
     "output_type": "stream",
     "text": [
      "100% [..............................................................................] 69707 / 69707tim.php\n",
      "C:\\Users\\admin\\rss3\\src\\midia_postagem\\images\\tim.php\n",
      "['Boulos visita Lula: Moro ministro é prova da parcialidade do juiz - Portal Vermelho']\n",
      "news_in_db: False\n",
      " -- no categories -- \n",
      "http://www.vermelho.org.br/noticia/316860-1\n",
      "noticia/316859-1\n",
      "http://www.vermelho.org.br/noticia/316859-1\n"
     ]
    },
    {
     "name": "stderr",
     "output_type": "stream",
     "text": [
      "Some characters could not be decoded, and were replaced with REPLACEMENT CHARACTER.\n"
     ]
    },
    {
     "name": "stdout",
     "output_type": "stream",
     "text": [
      "100% [..............................................................................] 32107 / 32107tim.php\n",
      "C:\\Users\\admin\\rss3\\src\\midia_postagem\\images\\tim.php\n",
      "['Bravatas de Bolsonaro geram incertezas']\n",
      "news_in_db: False\n",
      " -- no categories -- \n",
      "http://www.vermelho.org.br/noticia/316859-1\n",
      "noticia/316856-1\n",
      "http://www.vermelho.org.br/noticia/316856-1\n"
     ]
    },
    {
     "name": "stderr",
     "output_type": "stream",
     "text": [
      "Some characters could not be decoded, and were replaced with REPLACEMENT CHARACTER.\n"
     ]
    },
    {
     "name": "stdout",
     "output_type": "stream",
     "text": [
      "100% [..............................................................................] 76497 / 76497tim.php\n",
      "C:\\Users\\admin\\rss3\\src\\midia_postagem\\images\\tim.php\n",
      "['Bolsonaro inicia o ataque aos trabalhadores']\n",
      "news_in_db: False\n",
      " -- no categories -- \n",
      "http://www.vermelho.org.br/noticia/316856-1\n",
      "noticia/316858-1\n",
      "http://www.vermelho.org.br/noticia/316858-1\n"
     ]
    },
    {
     "name": "stderr",
     "output_type": "stream",
     "text": [
      "Some characters could not be decoded, and were replaced with REPLACEMENT CHARACTER.\n"
     ]
    },
    {
     "name": "stdout",
     "output_type": "stream",
     "text": [
      "100% [..............................................................................] 22530 / 22530tim.php\n",
      "C:\\Users\\admin\\rss3\\src\\midia_postagem\\images\\tim.php\n",
      "['Edir Macedo e as demissões na TV Gazeta']\n",
      "news_in_db: False\n",
      " -- no categories -- \n",
      "http://www.vermelho.org.br/noticia/316858-1\n",
      "noticia/316857-1\n",
      "http://www.vermelho.org.br/noticia/316857-1\n",
      "100% [..............................................................................] 38054 / 38054tim.php\n",
      "C:\\Users\\admin\\rss3\\src\\midia_postagem\\images\\tim.php\n",
      "['RÃºssia rechaÃ§a pretextos dos EUA para novas sanÃ§Ãµes']\n",
      "news_in_db: False\n",
      " -- no categories -- \n",
      "http://www.vermelho.org.br/noticia/316857-1\n",
      "noticia/316855-1\n",
      "http://www.vermelho.org.br/noticia/316855-1\n"
     ]
    },
    {
     "name": "stderr",
     "output_type": "stream",
     "text": [
      "Some characters could not be decoded, and were replaced with REPLACEMENT CHARACTER.\n"
     ]
    },
    {
     "name": "stdout",
     "output_type": "stream",
     "text": [
      "100% [..............................................................................] 81953 / 81953tim.php\n",
      "C:\\Users\\admin\\rss3\\src\\midia_postagem\\images\\tim.php\n",
      "['Diretor da OIT critica Bolsonaro e embaixadora brasileira reclama - Portal Vermelho']\n",
      "news_in_db: False\n",
      " -- no categories -- \n",
      "http://www.vermelho.org.br/noticia/316855-1\n",
      "noticia/316854-1\n",
      "http://www.vermelho.org.br/noticia/316854-1\n",
      "100% [..............................................................................] 34316 / 34316tim.php\n",
      "C:\\Users\\admin\\rss3\\src\\midia_postagem\\images\\tim.php\n",
      "['Senado reduz à metade fundo do Pré-Sal para Saúde e Educação - Portal Vermelho']\n",
      "news_in_db: False\n",
      " -- no categories -- \n",
      "http://www.vermelho.org.br/noticia/316854-1\n",
      "noticia/316853-1\n",
      "http://www.vermelho.org.br/noticia/316853-1\n"
     ]
    },
    {
     "name": "stderr",
     "output_type": "stream",
     "text": [
      "Some characters could not be decoded, and were replaced with REPLACEMENT CHARACTER.\n"
     ]
    },
    {
     "name": "stdout",
     "output_type": "stream",
     "text": [
      "100% [..............................................................................] 49813 / 49813tim.php\n",
      "C:\\Users\\admin\\rss3\\src\\midia_postagem\\images\\tim.php\n",
      "['Bolsonaro ataca BNDES, e funcionários reagem']\n",
      "news_in_db: False\n",
      " -- no categories -- \n",
      "http://www.vermelho.org.br/noticia/316853-1\n",
      "noticia/316852-1\n",
      "http://www.vermelho.org.br/noticia/316852-1\n"
     ]
    },
    {
     "name": "stderr",
     "output_type": "stream",
     "text": [
      "Some characters could not be decoded, and were replaced with REPLACEMENT CHARACTER.\n"
     ]
    },
    {
     "name": "stdout",
     "output_type": "stream",
     "text": [
      "100% [..............................................................................] 42953 / 42953tim.php\n",
      "C:\\Users\\admin\\rss3\\src\\midia_postagem\\images\\tim.php\n",
      "['Enquanto os bancos lucram, 62% dos brasileiros estão endividados - Portal Vermelho']\n",
      "news_in_db: False\n",
      " -- no categories -- \n",
      "http://www.vermelho.org.br/noticia/316852-1\n"
     ]
    }
   ],
   "source": [
    "for noticia in noticias:\n",
    "    ref_link = noticia.find_all('a', href=True)[0]['href']\n",
    "    print(noticia.find_all('a', href=True)[0]['href']) \n",
    "    print(link_site+ref_link)\n",
    "    if (link_site not in ref_link):\n",
    "        util_midia.social_news_from_link(link_site+ref_link)\n",
    "        print(link_site+ref_link)\n",
    "    else:\n",
    "        util_midia.social_news_from_link(ref_link)\n",
    "        print(ref_link)"
   ]
  },
  {
   "cell_type": "code",
   "execution_count": 7,
   "metadata": {
    "scrolled": true
   },
   "outputs": [
    {
     "data": {
      "text/plain": [
       "<article class=\"categoria_item \">\n",
       "<a href=\"noticia/316861-1\" title=\"EUA mantêm cerca de 200 menores migrantes separados dos pais\">\n",
       "<picture alt=\"EUA mantêm cerca de 200 menores migrantes separados dos pais\">\n",
       "<source media=\"(min-width: 960px)\" srcset=\"tim.php?src=http://www.vermelho.org.br/admin/arquivos/biblioteca/detencao_usa89627.jpg&amp;w=400&amp;h=225\"/>\n",
       "<source media=\"(min-width: 380px)\" srcset=\"tim.php?src=http://www.vermelho.org.br/admin/arquivos/biblioteca/detencao_usa89627.jpg&amp;w=150&amp;h=84\"/>\n",
       "<source media=\"(min-width: 1px)\" srcset=\"tim.php?src=http://www.vermelho.org.br/admin/arquivos/biblioteca/detencao_usa89627.jpg&amp;w=120&amp;h=110\"/>\n",
       "<img alt=\"[EUA mantêm cerca de 200 menores migrantes separados dos pais]\" src=\"http://www.vermelho.org.br/admin/arquivos/biblioteca/detencao_usa89627.jpg\" title=\"EUA mantêm cerca de 200 menores migrantes separados dos pais\"/>\n",
       "</picture>\n",
       "<div class=\"categoria_item_desc\">\n",
       "<time datetime=\"2018-11-09 10:15:00\">09/11/2018 10h15</time>\n",
       "<h1>EUA mantêm cerca de 200 menores migrantes separados dos pais</h1>\n",
       "</div>\n",
       "</a>\n",
       "</article>"
      ]
     },
     "execution_count": 7,
     "metadata": {},
     "output_type": "execute_result"
    }
   ],
   "source": [
    "noticias[0]"
   ]
  }
 ],
 "metadata": {
  "kernelspec": {
   "display_name": "Python 3",
   "language": "python",
   "name": "python3"
  },
  "language_info": {
   "codemirror_mode": {
    "name": "ipython",
    "version": 3
   },
   "file_extension": ".py",
   "mimetype": "text/x-python",
   "name": "python",
   "nbconvert_exporter": "python",
   "pygments_lexer": "ipython3",
   "version": "3.6.5"
  }
 },
 "nbformat": 4,
 "nbformat_minor": 2
}
