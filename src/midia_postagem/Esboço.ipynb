{
 "cells": [
  {
   "cell_type": "code",
   "execution_count": 1,
   "metadata": {},
   "outputs": [],
   "source": [
    "import sys\n",
    "sys.path.insert(0, '../../src')\n",
    "import feedparser\n",
    "import pandas as pd\n",
    "\n",
    "import urllib\n",
    "\n",
    "from postagem.Util import extract_domain, download_and_move_image, get_noticia_comercio\n",
    "from lexical_analyzer_package import midia_lexical\n",
    "from midia_postagem import midia_post\n",
    "from Model.News import News\n",
    "from Database import midia_table\n",
    "\n",
    "from newsplease import NewsPlease\n",
    "from bs4 import BeautifulSoup\n",
    "import requests\n",
    "\n",
    "import datetime"
   ]
  },
  {
   "cell_type": "code",
   "execution_count": 2,
   "metadata": {},
   "outputs": [],
   "source": [
    "link = 'http://www.justificando.com/categoria/noticias/'"
   ]
  },
  {
   "cell_type": "code",
   "execution_count": 3,
   "metadata": {},
   "outputs": [],
   "source": [
    "req = requests.get(link)"
   ]
  },
  {
   "cell_type": "code",
   "execution_count": 4,
   "metadata": {},
   "outputs": [],
   "source": [
    "noticias = BeautifulSoup(req.text, \"html.parser\").find_all('h4', class_='entry-title entry-title-left')"
   ]
  },
  {
   "cell_type": "code",
   "execution_count": 5,
   "metadata": {
    "scrolled": false
   },
   "outputs": [
    {
     "name": "stdout",
     "output_type": "stream",
     "text": [
      "http://www.justificando.com/2018/10/11/ministerio-publico-abre-inquerito-contra-o-game-bolsomito-2k18/\n",
      "http://www.justificando.com/wp-content/uploads/2018/10/bolsojogo-redes.png\n",
      "HTTP Error 403: Forbidden\n",
      "['Ministério Público abre inquérito contra o game Bolsomito 2k18']\n",
      "news_in_db: False\n",
      " -- no categories -- \n",
      "http://www.justificando.com/2018/10/11/e-10-dias-50-ataques-provocados-por-bolsonaristas/\n",
      "http://www.justificando.com/wp-content/uploads/2018/10/Casos-de-violência-2.png\n",
      "HTTP Error 403: Forbidden\n",
      "['Em 10 dias, 50 ataques provocados por bolsonaristas']\n",
      "news_in_db: False\n",
      " -- no categories -- \n",
      "http://www.justificando.com/2018/10/11/bolsonaristas-marcam-pele-de-mulher-com-suastica-apos-agredi-la-com-socos/\n",
      "http://www.justificando.com/wp-content/uploads/2018/10/Bolsonaristas-marcam-pele-de-mulher-com-suástica-após-agredi-la-com-socos-2.png\n",
      "HTTP Error 403: Forbidden\n",
      "['Bolsonaristas marcam pele de mulher com suástica após agredi-la com socos']\n",
      "news_in_db: False\n",
      " -- no categories -- \n",
      "http://www.justificando.com/2018/10/10/mestre-de-capoeira-e-morto-com-12-facadas-desferidas-por-bolsonarista-apos-discussao-politica/\n",
      "http://www.justificando.com/wp-content/uploads/2018/10/Mestre-de-capoeira-é-morto-com-12-facadas-desferidas-por-Bolsonarista-após-discussão-política-2.png\n",
      "HTTP Error 403: Forbidden\n",
      "['Mestre de capoeira é morto com 12 facadas desferidas por Bolsonarista após discussão política']\n",
      "news_in_db: False\n",
      " -- no categories -- \n",
      "http://www.justificando.com/2018/10/09/o-que-os-jornais-do-mundo-estao-falando-sobre-jair-bolsonaro/\n",
      "http://www.justificando.com/wp-content/uploads/2018/10/bolso-mundo-redes.png\n",
      "HTTP Error 403: Forbidden\n",
      "['O que os jornais do mundo estão falando sobre Jair Bolsonaro?']\n",
      "news_in_db: False\n",
      " -- no categories -- \n",
      "http://www.justificando.com/2018/10/09/maior-plataforma-de-games-do-mundo-vende-jogo-em-que-bolsonaro-precisa-matar-negros-mulheres-e-homossexuais/\n",
      "http://www.justificando.com/wp-content/uploads/2018/10/2k18-site.png\n",
      "HTTP Error 403: Forbidden\n",
      "['Gigante dos games vende jogo em que Bolsonaro precisa matar negros, mulheres e homossexuais']\n",
      "news_in_db: False\n",
      " -- no categories -- \n",
      "http://www.justificando.com/2018/10/05/apesar-de-proibicao-do-cnj-juiz-que-absolveu-militares-no-carandiru-declara-apoio-a-bolsonaro/\n",
      "http://www.justificando.com/wp-content/uploads/2018/10/ivan-redes.png\n",
      "HTTP Error 403: Forbidden\n",
      "['Apesar de proibição do CNJ, juiz que absolveu militares no Carandiru declara apoio à Bolsonaro']\n",
      "news_in_db: False\n",
      " -- no categories -- \n",
      "http://www.justificando.com/2018/10/04/como-seu-candidato-pensa-sobre-os-direitos-da-populacao-negra/\n",
      "http://www.justificando.com/wp-content/uploads/2018/10/Como-seu-candidato-pensa-sobre-direitos-LGBTI-1.png\n",
      "HTTP Error 403: Forbidden\n",
      "['Como seu candidato pensa sobre os direitos da população negra']\n",
      "news_in_db: False\n",
      " -- no categories -- \n",
      "http://www.justificando.com/2018/10/03/justica-trabalhista-veta-dono-da-havan-de-influenciar-voto-de-funcionario/\n",
      "http://www.justificando.com/wp-content/uploads/2018/10/dono-havan-redes.png\n",
      "HTTP Error 403: Forbidden\n",
      "['Justiça trabalhista veta dono da Havan de influenciar voto de funcionário']\n",
      "news_in_db: False\n",
      " -- no categories -- \n",
      "http://www.justificando.com/2018/10/03/juizes-para-a-democracia-manifestam-preocupacao-com-o-desenrolar-politico-e-eleitoral-do-pais/\n",
      "http://www.justificando.com/wp-content/uploads/2018/10/ajd-redes.png\n",
      "HTTP Error 403: Forbidden\n",
      "['Juízes para a Democracia manifestam preocupação com o desenrolar político e eleitoral do País']\n",
      "news_in_db: False\n",
      " -- no categories -- \n"
     ]
    }
   ],
   "source": [
    "for noticia in noticias:\n",
    "    print(noticia.find_all('a', href=True)[0]['href'])\n",
    "    article = NewsPlease.from_url(noticia.find_all('a', href=True)[0]['href'])\n",
    "    row = {'titulos': [], 'links': [], 'noticia': [], 'image': [], 'abstract': [], 'date': []}\n",
    "    if (article is not None):\n",
    "        row['titulos'].append(article.title)\n",
    "        row['noticia'].append(article.text)\n",
    "        row['links'].append(article.url)\n",
    "        row['abstract'].append(article.text)\n",
    "        row['date'].append(article.date_publish)\n",
    "        path_image = article.image_url\n",
    "        print(path_image)\n",
    "        if path_image == '' or path_image == None:\n",
    "            row['image'].append(0)\n",
    "        else:\n",
    "            row['image'].append(download_and_move_image(article.image_url))\n",
    "        news = News(row['abstract'], row['noticia'], row['date'], row['links'], row['titulos'], row['image'])\n",
    "        try:\n",
    "            print(row['titulos'])\n",
    "            news_in_db = midia_table.check_news(news)\n",
    "            print('news_in_db: ' + str(news_in_db))\n",
    "            if (not news_in_db):\n",
    "                row = pd.DataFrame(row)\n",
    "                df, categories = midia_lexical.lexical_corpus_and_title(row)\n",
    "                # DB categories\n",
    "                if (categories != [set()]):\n",
    "                    news.set_categories(categories)\n",
    "                    midia_table.save_news(news)\n",
    "                    midia_post.post_news(df)\n",
    "        except:\n",
    "            print('Empty News')"
   ]
  },
  {
   "cell_type": "code",
   "execution_count": 6,
   "metadata": {},
   "outputs": [
    {
     "data": {
      "text/plain": [
       "<h4 class=\"entry-title entry-title-left\"><a href=\"http://www.justificando.com/2018/10/11/ministerio-publico-abre-inquerito-contra-o-game-bolsomito-2k18/\" title=\"Ministério Público abre inquérito contra o game Bolsomito 2k18\">Ministério Público abre inquérito contra o game Bolsomito 2k18</a></h4>"
      ]
     },
     "execution_count": 6,
     "metadata": {},
     "output_type": "execute_result"
    }
   ],
   "source": [
    "noticias[0]"
   ]
  }
 ],
 "metadata": {
  "kernelspec": {
   "display_name": "Python 3",
   "language": "python",
   "name": "python3"
  },
  "language_info": {
   "codemirror_mode": {
    "name": "ipython",
    "version": 3
   },
   "file_extension": ".py",
   "mimetype": "text/x-python",
   "name": "python",
   "nbconvert_exporter": "python",
   "pygments_lexer": "ipython3",
   "version": "3.6.5"
  }
 },
 "nbformat": 4,
 "nbformat_minor": 2
}
