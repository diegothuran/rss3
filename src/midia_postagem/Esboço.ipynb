{
 "cells": [
  {
   "cell_type": "code",
   "execution_count": 1,
   "metadata": {},
   "outputs": [],
   "source": [
    "import sys\n",
    "sys.path.insert(0, '../../src')\n",
    "import feedparser\n",
    "import pandas as pd\n",
    "\n",
    "import urllib\n",
    "\n",
    "from postagem.Util import extract_domain, download_and_move_image, get_noticia_comercio\n",
    "from lexical_analyzer_package import midia_lexical\n",
    "from midia_postagem import midia_post\n",
    "from Model.News import News\n",
    "from Database import midia_table\n",
    "\n",
    "from newsplease import NewsPlease\n",
    "from bs4 import BeautifulSoup\n",
    "import requests\n",
    "\n",
    "import datetime"
   ]
  },
  {
   "cell_type": "code",
   "execution_count": 2,
   "metadata": {},
   "outputs": [],
   "source": [
    "link = 'https://ptnacamara.org.br/portal/category/portal/noticias/'"
   ]
  },
  {
   "cell_type": "code",
   "execution_count": 3,
   "metadata": {},
   "outputs": [],
   "source": [
    "req = requests.get(link)"
   ]
  },
  {
   "cell_type": "code",
   "execution_count": 4,
   "metadata": {},
   "outputs": [],
   "source": [
    "noticias = BeautifulSoup(req.text, \"html.parser\").find_all('h2', class_='entry-title')"
   ]
  },
  {
   "cell_type": "code",
   "execution_count": 5,
   "metadata": {
    "scrolled": true
   },
   "outputs": [
    {
     "name": "stdout",
     "output_type": "stream",
     "text": [
      "https://ptnacamara.org.br/portal/2018/10/05/cut-denuncia-violacoes-de-direitos-humanos-em-audiencia-publica-nos-eua/\n",
      "https://ptnacamara.org.br/portal/wp-content/themes/woohoo/images/favicon.png\n",
      "100% [..................................................................................] 401 / 401favicon.png\n",
      "C:\\Users\\admin\\rss3\\src\\midia_postagem\\images\\favicon.png\n",
      "['CUT denuncia violações de Direitos Humanos em audiência pública nos EUA']\n",
      "news_in_db: False\n",
      " -- no categories -- \n",
      "https://ptnacamara.org.br/portal/2018/10/05/constituicao-cidada-completa-30-anos-nesta-sexta-feira/\n",
      "https://ptnacamara.org.br/portal/wp-content/themes/woohoo/images/favicon.png\n",
      "100% [..................................................................................] 401 / 401favicon.png\n",
      "C:\\Users\\admin\\rss3\\src\\midia_postagem\\images\\favicon.png\n",
      "['Constituição Cidadã completa 30 anos nesta sexta-feira']\n",
      "news_in_db: False\n",
      " -- no categories -- \n",
      "https://ptnacamara.org.br/portal/2018/10/05/ministro-do-tst-afirma-que-reforma-trabalhista-de-temer-retirou-direitos/\n",
      "https://ptnacamara.org.br/portal/wp-content/themes/woohoo/images/favicon.png\n",
      "100% [..................................................................................] 401 / 401favicon.png\n",
      "C:\\Users\\admin\\rss3\\src\\midia_postagem\\images\\favicon.png\n",
      "['Ministro do TST afirma que reforma trabalhista de Temer retirou direitos']\n",
      "news_in_db: False\n",
      " -- no categories -- \n",
      "https://ptnacamara.org.br/portal/2018/10/04/boletim-228-comite-popular-em-defesa-de-lula-e-da-democracia/\n",
      "https://ptnacamara.org.br/portal/wp-content/themes/woohoo/images/favicon.png\n",
      "100% [..................................................................................] 401 / 401favicon.png\n",
      "C:\\Users\\admin\\rss3\\src\\midia_postagem\\images\\favicon.png\n",
      "['Boletim 228 - Comitê Popular em Defesa de Lula e da Democracia']\n",
      "news_in_db: False\n",
      " -- no categories -- \n",
      "https://ptnacamara.org.br/portal/2018/10/04/pimenta-destaca-importancia-de-interpelacao-de-moro-por-cnj-e-pede-apuracao-de-outras-denuncias-contra-o-juiz/\n",
      "https://ptnacamara.org.br/portal/wp-content/themes/woohoo/images/favicon.png\n",
      "100% [..................................................................................] 401 / 401favicon.png\n",
      "C:\\Users\\admin\\rss3\\src\\midia_postagem\\images\\favicon.png\n",
      "['Pimenta destaca importância de interpelação de Moro por CNJ e pede apuração de outras denúncias contra o juiz']\n",
      "news_in_db: False\n",
      " -- no categories -- \n",
      "https://ptnacamara.org.br/portal/2018/10/04/nem-ditadura-proibiu-visitas-a-lula-diz-fernando-morais-apos-veto/\n",
      "https://ptnacamara.org.br/portal/wp-content/themes/woohoo/images/favicon.png\n",
      "100% [..................................................................................] 401 / 401favicon.png\n",
      "C:\\Users\\admin\\rss3\\src\\midia_postagem\\images\\favicon.png\n",
      "['“Nem ditadura proibiu visitas a Lula”, diz Fernando Morais após veto']\n",
      "news_in_db: False\n",
      " -- no categories -- \n",
      "https://ptnacamara.org.br/portal/2018/10/04/100047/\n",
      "https://ptnacamara.org.br/portal/wp-content/themes/woohoo/images/favicon.png\n",
      "100% [..................................................................................] 401 / 401favicon.png\n",
      "C:\\Users\\admin\\rss3\\src\\midia_postagem\\images\\favicon.png\n",
      "['Boletim 227 - Comitê Popular em Defesa de Lula e da Democracia']\n",
      "news_in_db: False\n",
      " -- no categories -- \n",
      "https://ptnacamara.org.br/portal/2018/10/04/100050/\n",
      "https://ptnacamara.org.br/portal/wp-content/themes/woohoo/images/favicon.png\n",
      "100% [..................................................................................] 401 / 401favicon.png\n",
      "C:\\Users\\admin\\rss3\\src\\midia_postagem\\images\\favicon.png\n",
      "['Bulletin 227 - People’s Committee in Defense of Lula and Democracy']\n",
      "news_in_db: False\n",
      " -- no categories -- \n",
      "https://ptnacamara.org.br/portal/2018/10/04/universidade-de-londres-debate-golpe-e-implosao-da-democracia-no-brasil/\n",
      "https://ptnacamara.org.br/portal/wp-content/themes/woohoo/images/favicon.png\n",
      "100% [..................................................................................] 401 / 401favicon.png\n",
      "C:\\Users\\admin\\rss3\\src\\midia_postagem\\images\\favicon.png\n",
      "['Universidade de Londres debate golpe e “implosão da democracia no Brasil”']\n",
      "news_in_db: False\n",
      " -- no categories -- \n",
      "https://ptnacamara.org.br/portal/2018/10/03/com-mujica-presente-uruguaios-lancam-comite-em-defesa-da-democracia-no-brasil-e-da-liberdade-de-lula/\n",
      "https://ptnacamara.org.br/portal/wp-content/themes/woohoo/images/favicon.png\n",
      "100% [..................................................................................] 401 / 401favicon.png\n",
      "C:\\Users\\admin\\rss3\\src\\midia_postagem\\images\\favicon.png\n",
      "['Com Mujica presente, uruguaios lançam Comitê em Defesa da Democracia no Brasil e da liberdade de Lula']\n",
      "news_in_db: False\n",
      " -- no categories -- \n"
     ]
    }
   ],
   "source": [
    "for noticia in noticias:\n",
    "    print(noticia.find_all('a', href=True)[0]['href'])\n",
    "    article = NewsPlease.from_url(noticia.find_all('a', href=True)[0]['href'])\n",
    "    row = {'titulos': [], 'links': [], 'noticia': [], 'image': [], 'abstract': [], 'date': []}\n",
    "    if (article is not None):\n",
    "        row['titulos'].append(article.title)\n",
    "        row['noticia'].append(article.text)\n",
    "        row['links'].append(article.url)\n",
    "        row['abstract'].append(article.text)\n",
    "        row['date'].append(article.date_publish)\n",
    "        path_image = article.image_url\n",
    "        print(path_image)\n",
    "        if path_image == '' or path_image == None:\n",
    "            row['image'].append(0)\n",
    "        else:\n",
    "            row['image'].append(download_and_move_image(article.image_url))\n",
    "        news = News(row['abstract'], row['noticia'], row['date'], row['links'], row['titulos'], row['image'])\n",
    "        try:\n",
    "            print(row['titulos'])\n",
    "            news_in_db = midia_table.check_news(news)\n",
    "            print('news_in_db: ' + str(news_in_db))\n",
    "            if (not news_in_db):\n",
    "                row = pd.DataFrame(row)\n",
    "                df, categories = midia_lexical.lexical_corpus_and_title(row)\n",
    "                # DB categories\n",
    "                if (categories != [set()]):\n",
    "                    news.set_categories(categories)\n",
    "                    midia_table.save_news(news)\n",
    "                    midia_post.post_news(df)\n",
    "        except:\n",
    "            print('Empty News')"
   ]
  },
  {
   "cell_type": "code",
   "execution_count": 6,
   "metadata": {},
   "outputs": [
    {
     "data": {
      "text/plain": [
       "<h2 class=\"entry-title\"><a href=\"https://ptnacamara.org.br/portal/2018/10/05/cut-denuncia-violacoes-de-direitos-humanos-em-audiencia-publica-nos-eua/\"><span>CUT denuncia violações de Direitos Humanos em audiência pública nos EUA</span></a></h2>"
      ]
     },
     "execution_count": 6,
     "metadata": {},
     "output_type": "execute_result"
    }
   ],
   "source": [
    "noticias[0]"
   ]
  }
 ],
 "metadata": {
  "kernelspec": {
   "display_name": "Python 3",
   "language": "python",
   "name": "python3"
  },
  "language_info": {
   "codemirror_mode": {
    "name": "ipython",
    "version": 3
   },
   "file_extension": ".py",
   "mimetype": "text/x-python",
   "name": "python",
   "nbconvert_exporter": "python",
   "pygments_lexer": "ipython3",
   "version": "3.6.5"
  }
 },
 "nbformat": 4,
 "nbformat_minor": 2
}
