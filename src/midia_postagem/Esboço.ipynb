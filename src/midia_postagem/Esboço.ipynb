{
 "cells": [
  {
   "cell_type": "code",
   "execution_count": 1,
   "metadata": {},
   "outputs": [],
   "source": [
    "import sys\n",
    "sys.path.insert(0, '../../src')\n",
    "import feedparser\n",
    "import pandas as pd\n",
    "\n",
    "import urllib\n",
    "\n",
    "from postagem.Util import extract_domain, download_and_move_image, get_noticia_comercio\n",
    "from lexical_analyzer_package import midia_lexical\n",
    "from midia_postagem import midia_post\n",
    "from Model.News import News\n",
    "from Database import midia_table\n",
    "\n",
    "from newsplease import NewsPlease\n",
    "from bs4 import BeautifulSoup\n",
    "import requests\n",
    "\n",
    "import datetime"
   ]
  },
  {
   "cell_type": "code",
   "execution_count": 2,
   "metadata": {},
   "outputs": [],
   "source": [
    "link = 'https://lulacerda.ig.com.br/'"
   ]
  },
  {
   "cell_type": "code",
   "execution_count": 3,
   "metadata": {},
   "outputs": [],
   "source": [
    "req = requests.get(link)"
   ]
  },
  {
   "cell_type": "code",
   "execution_count": 4,
   "metadata": {},
   "outputs": [],
   "source": [
    "noticias = BeautifulSoup(req.text, \"html.parser\").find_all('h2')"
   ]
  },
  {
   "cell_type": "code",
   "execution_count": 5,
   "metadata": {
    "scrolled": false
   },
   "outputs": [
    {
     "name": "stdout",
     "output_type": "stream",
     "text": [
      "https://lulacerda.ig.com.br/anuario-epoca-360-estacio-e-premiada-na-categoria-educacao/\n",
      "“Anuário Época 360”: Estácio é premiada na categoria Educação\n",
      "https://lulacerda.ig.com.br/anuario-epoca-360-estacio-e-premiada-na-categoria-educacao/\n",
      "100% [..............................................................................] 43091 / 43091download.wget\n",
      "C:\\Users\\admin\\rss3\\src\\midia_postagem\\images\\download.wget\n",
      "['Lu Lacerda']\n",
      "news_in_db: False\n",
      " -- no categories -- \n",
      "https://lulacerda.ig.com.br/atelie-benoliel-25-anos-de-muito-sabor/\n",
      "Ateliê Benoliel: 25 anos de muito sabor\n",
      "https://lulacerda.ig.com.br/atelie-benoliel-25-anos-de-muito-sabor/\n",
      "100% [..............................................................................] 47007 / 47007download.wget\n",
      "C:\\Users\\admin\\rss3\\src\\midia_postagem\\images\\download.wget\n",
      "['Lu Lacerda']\n",
      "news_in_db: False\n",
      " -- no categories -- \n",
      "https://lulacerda.ig.com.br/galeria-de-brasileiros-em-ny-chega-ao-rio-em-janeiro/\n",
      "Galeria de brasileiros em NY chega ao Rio em janeiro\n",
      "https://lulacerda.ig.com.br/galeria-de-brasileiros-em-ny-chega-ao-rio-em-janeiro/\n",
      "100% [..............................................................................] 41143 / 41143download.wget\n",
      "C:\\Users\\admin\\rss3\\src\\midia_postagem\\images\\download.wget\n",
      "['Lu Lacerda']\n",
      "news_in_db: False\n",
      " -- no categories -- \n",
      "https://lulacerda.ig.com.br/cinco-perguntas-para-silvia-pimenta-velloso-sobre-negocios-nos-eua/\n",
      "Cinco perguntas para Silvia Pimenta Velloso (sobre negócios nos EUA)\n",
      "https://lulacerda.ig.com.br/cinco-perguntas-para-silvia-pimenta-velloso-sobre-negocios-nos-eua/\n",
      "100% [..............................................................................] 46352 / 46352download.wget\n",
      "C:\\Users\\admin\\rss3\\src\\midia_postagem\\images\\download.wget\n",
      "['Lu Lacerda']\n",
      "news_in_db: False\n",
      " -- no categories -- \n",
      "https://lulacerda.ig.com.br/internet-nao-perdoa-mais-um-meme-da-suruba-de-doria/\n",
      "Internet não perdoa: mais um meme da “suruba” de Dória\n",
      "https://lulacerda.ig.com.br/internet-nao-perdoa-mais-um-meme-da-suruba-de-doria/\n",
      "100% [..............................................................................] 41154 / 41154download.wget\n",
      "C:\\Users\\admin\\rss3\\src\\midia_postagem\\images\\download.wget\n",
      "['Lu Lacerda']\n",
      "news_in_db: False\n",
      " -- no categories -- \n",
      "https://lulacerda.ig.com.br/bailinho-barco-com-pedidos-para-iemanja/\n",
      "Bailinho: barco com pedidos para Iemanjá\n",
      "https://lulacerda.ig.com.br/bailinho-barco-com-pedidos-para-iemanja/\n",
      "100% [..............................................................................] 42309 / 42309download.wget\n",
      "C:\\Users\\admin\\rss3\\src\\midia_postagem\\images\\download.wget\n",
      "['Lu Lacerda']\n",
      "news_in_db: False\n",
      " -- no categories -- \n",
      "https://lulacerda.ig.com.br/roger-waters-no-maraca-coral-com-camisetas-escritas-resistir/\n",
      "Roger Waters: coral de ONG carioca para “Another Brick In The Wall”\n",
      "https://lulacerda.ig.com.br/roger-waters-no-maraca-coral-com-camisetas-escritas-resistir/\n",
      "100% [..............................................................................] 43917 / 43917download.wget\n",
      "C:\\Users\\admin\\rss3\\src\\midia_postagem\\images\\download.wget\n",
      "['Lu Lacerda']\n",
      "news_in_db: False\n",
      " -- no categories -- \n",
      "https://lulacerda.ig.com.br/sp-alem-das-passarelas-da-semana-de-moda/\n",
      "SP: além das passarelas da semana de moda\n",
      "https://lulacerda.ig.com.br/sp-alem-das-passarelas-da-semana-de-moda/\n",
      "100% [..............................................................................] 45195 / 45195download.wget\n",
      "C:\\Users\\admin\\rss3\\src\\midia_postagem\\images\\download.wget\n",
      "['Lu Lacerda']\n",
      "news_in_db: False\n",
      " -- no categories -- \n",
      "https://lulacerda.ig.com.br/paris-por-paulo-pereira-219/\n",
      "Paris, por Paulo Pereira\n",
      "https://lulacerda.ig.com.br/paris-por-paulo-pereira-219/\n",
      "100% [..............................................................................] 45624 / 45624download.wget\n",
      "C:\\Users\\admin\\rss3\\src\\midia_postagem\\images\\download.wget\n",
      "['Lu Lacerda']\n",
      "news_in_db: False\n",
      " -- no categories -- \n",
      "https://lulacerda.ig.com.br/o-extrapassarela-na-spfw-um-atras-do-outro/\n",
      "O extrapassarela na SPFW: um atrás do outro\n",
      "https://lulacerda.ig.com.br/o-extrapassarela-na-spfw-um-atras-do-outro/\n",
      "100% [..............................................................................] 44906 / 44906download.wget\n",
      "C:\\Users\\admin\\rss3\\src\\midia_postagem\\images\\download.wget\n",
      "['Lu Lacerda']\n",
      "news_in_db: False\n",
      " -- no categories -- \n",
      "https://lulacerda.ig.com.br/e-vem-adriana-calcanhoto-toda-suave/\n",
      "E vem Adriana Calcanhoto toda suave\n",
      "https://lulacerda.ig.com.br/e-vem-adriana-calcanhoto-toda-suave/\n",
      "100% [..............................................................................] 41552 / 41552download.wget\n",
      "C:\\Users\\admin\\rss3\\src\\midia_postagem\\images\\download.wget\n",
      "['Lu Lacerda']\n",
      "news_in_db: False\n",
      " -- no categories -- \n",
      "https://lulacerda.ig.com.br/ddp-diretoria-banda-de-pagode-pop-carioca-comemora-3-anos/\n",
      "DDP Diretoria: banda de “pagode pop” carioca comemora 3 anos\n"
     ]
    },
    {
     "name": "stderr",
     "output_type": "stream",
     "text": [
      "Some characters could not be decoded, and were replaced with REPLACEMENT CHARACTER.\n"
     ]
    },
    {
     "name": "stdout",
     "output_type": "stream",
     "text": [
      "https://lulacerda.ig.com.br/ddp-diretoria-banda-de-pagode-pop-carioca-comemora-3-anos/\n",
      "100% [..............................................................................] 43332 / 43332download.wget\n",
      "C:\\Users\\admin\\rss3\\src\\midia_postagem\\images\\download.wget\n",
      "['Lu Lacerda']\n",
      "news_in_db: False\n",
      " -- no categories -- \n",
      "https://lulacerda.ig.com.br/simone-klabin-livro-de-gastronomia-para-colecionadores/\n",
      "Simone Klabin: livro de gastronomia para colecionadores\n",
      "https://lulacerda.ig.com.br/simone-klabin-livro-de-gastronomia-para-colecionadores/\n",
      "100% [..............................................................................] 47379 / 47379download.wget\n",
      "C:\\Users\\admin\\rss3\\src\\midia_postagem\\images\\download.wget\n",
      "['Lu Lacerda']\n",
      "news_in_db: False\n",
      " -- no categories -- \n",
      "https://lulacerda.ig.com.br/le-cordon-bleu-chance-de-bolsa-ate-esta-quarta/\n",
      "Le Cordon Bleu: chance de bolsa até esta quarta\n",
      "https://lulacerda.ig.com.br/le-cordon-bleu-chance-de-bolsa-ate-esta-quarta/\n",
      "100% [..............................................................................] 42215 / 42215download.wget\n",
      "C:\\Users\\admin\\rss3\\src\\midia_postagem\\images\\download.wget\n",
      "['Lu Lacerda']\n",
      "news_in_db: False\n",
      " -- no categories -- \n",
      "https://lulacerda.ig.com.br/projeto-social-de-fotografia-chega-ao-rio-em-novembro/\n",
      "Jardim Gramacho: aula de fotografia para moradores\n",
      "https://lulacerda.ig.com.br/projeto-social-de-fotografia-chega-ao-rio-em-novembro/\n",
      "100% [..............................................................................] 41218 / 41218download.wget\n",
      "C:\\Users\\admin\\rss3\\src\\midia_postagem\\images\\download.wget\n",
      "['Lu Lacerda']\n",
      "news_in_db: False\n",
      " -- no categories -- \n"
     ]
    },
    {
     "ename": "IndexError",
     "evalue": "list index out of range",
     "output_type": "error",
     "traceback": [
      "\u001b[1;31m---------------------------------------------------------------------------\u001b[0m",
      "\u001b[1;31mIndexError\u001b[0m                                Traceback (most recent call last)",
      "\u001b[1;32m<ipython-input-5-0e5ff126c53c>\u001b[0m in \u001b[0;36m<module>\u001b[1;34m()\u001b[0m\n\u001b[0;32m      1\u001b[0m \u001b[1;32mfor\u001b[0m \u001b[0mnoticia\u001b[0m \u001b[1;32min\u001b[0m \u001b[0mnoticias\u001b[0m\u001b[1;33m:\u001b[0m\u001b[1;33m\u001b[0m\u001b[0m\n\u001b[1;32m----> 2\u001b[1;33m     \u001b[0mprint\u001b[0m\u001b[1;33m(\u001b[0m\u001b[0mnoticia\u001b[0m\u001b[1;33m.\u001b[0m\u001b[0mfind_all\u001b[0m\u001b[1;33m(\u001b[0m\u001b[1;34m'a'\u001b[0m\u001b[1;33m,\u001b[0m \u001b[0mhref\u001b[0m\u001b[1;33m=\u001b[0m\u001b[1;32mTrue\u001b[0m\u001b[1;33m)\u001b[0m\u001b[1;33m[\u001b[0m\u001b[1;36m0\u001b[0m\u001b[1;33m]\u001b[0m\u001b[1;33m[\u001b[0m\u001b[1;34m'href'\u001b[0m\u001b[1;33m]\u001b[0m\u001b[1;33m)\u001b[0m\u001b[1;33m\u001b[0m\u001b[0m\n\u001b[0m\u001b[0;32m      3\u001b[0m     \u001b[0mprint\u001b[0m\u001b[1;33m(\u001b[0m\u001b[0mnoticia\u001b[0m\u001b[1;33m.\u001b[0m\u001b[0mfind_all\u001b[0m\u001b[1;33m(\u001b[0m\u001b[1;34m'a'\u001b[0m\u001b[1;33m,\u001b[0m \u001b[0mtitle\u001b[0m\u001b[1;33m=\u001b[0m\u001b[1;32mTrue\u001b[0m\u001b[1;33m)\u001b[0m\u001b[1;33m[\u001b[0m\u001b[1;36m0\u001b[0m\u001b[1;33m]\u001b[0m\u001b[1;33m[\u001b[0m\u001b[1;34m'title'\u001b[0m\u001b[1;33m]\u001b[0m\u001b[1;33m)\u001b[0m\u001b[1;33m\u001b[0m\u001b[0m\n\u001b[0;32m      4\u001b[0m     \u001b[0marticle\u001b[0m \u001b[1;33m=\u001b[0m \u001b[0mNewsPlease\u001b[0m\u001b[1;33m.\u001b[0m\u001b[0mfrom_url\u001b[0m\u001b[1;33m(\u001b[0m\u001b[0mnoticia\u001b[0m\u001b[1;33m.\u001b[0m\u001b[0mfind_all\u001b[0m\u001b[1;33m(\u001b[0m\u001b[1;34m'a'\u001b[0m\u001b[1;33m,\u001b[0m \u001b[0mhref\u001b[0m\u001b[1;33m=\u001b[0m\u001b[1;32mTrue\u001b[0m\u001b[1;33m)\u001b[0m\u001b[1;33m[\u001b[0m\u001b[1;36m0\u001b[0m\u001b[1;33m]\u001b[0m\u001b[1;33m[\u001b[0m\u001b[1;34m'href'\u001b[0m\u001b[1;33m]\u001b[0m\u001b[1;33m)\u001b[0m\u001b[1;33m\u001b[0m\u001b[0m\n\u001b[0;32m      5\u001b[0m     \u001b[0mrow\u001b[0m \u001b[1;33m=\u001b[0m \u001b[1;33m{\u001b[0m\u001b[1;34m'titulos'\u001b[0m\u001b[1;33m:\u001b[0m \u001b[1;33m[\u001b[0m\u001b[1;33m]\u001b[0m\u001b[1;33m,\u001b[0m \u001b[1;34m'links'\u001b[0m\u001b[1;33m:\u001b[0m \u001b[1;33m[\u001b[0m\u001b[1;33m]\u001b[0m\u001b[1;33m,\u001b[0m \u001b[1;34m'noticia'\u001b[0m\u001b[1;33m:\u001b[0m \u001b[1;33m[\u001b[0m\u001b[1;33m]\u001b[0m\u001b[1;33m,\u001b[0m \u001b[1;34m'image'\u001b[0m\u001b[1;33m:\u001b[0m \u001b[1;33m[\u001b[0m\u001b[1;33m]\u001b[0m\u001b[1;33m,\u001b[0m \u001b[1;34m'abstract'\u001b[0m\u001b[1;33m:\u001b[0m \u001b[1;33m[\u001b[0m\u001b[1;33m]\u001b[0m\u001b[1;33m,\u001b[0m \u001b[1;34m'date'\u001b[0m\u001b[1;33m:\u001b[0m \u001b[1;33m[\u001b[0m\u001b[1;33m]\u001b[0m\u001b[1;33m}\u001b[0m\u001b[1;33m\u001b[0m\u001b[0m\n",
      "\u001b[1;31mIndexError\u001b[0m: list index out of range"
     ]
    }
   ],
   "source": [
    "for noticia in noticias:\n",
    "    print(noticia.find_all('a', href=True)[0]['href'])\n",
    "    print(noticia.find_all('a', title=True)[0]['title'])\n",
    "    article = NewsPlease.from_url(noticia.find_all('a', href=True)[0]['href'])\n",
    "    row = {'titulos': [], 'links': [], 'noticia': [], 'image': [], 'abstract': [], 'date': []}\n",
    "    if (article is not None):\n",
    "        row['titulos'].append(article.title)\n",
    "        row['noticia'].append(article.text)\n",
    "        row['links'].append(article.url)\n",
    "        row['abstract'].append(article.text)\n",
    "        row['date'].append(article.date_publish)\n",
    "        path_image = article.image_url\n",
    "        print(path_image)\n",
    "        if path_image == '' or path_image == None:\n",
    "            row['image'].append(0)\n",
    "        else:\n",
    "            row['image'].append(download_and_move_image(article.image_url))\n",
    "        news = News(row['abstract'], row['noticia'], row['date'], row['links'], row['titulos'], row['image'])\n",
    "        try:\n",
    "            print(row['titulos'])\n",
    "            news_in_db = midia_table.check_news(news)\n",
    "            print('news_in_db: ' + str(news_in_db))\n",
    "            if (not news_in_db):\n",
    "                row = pd.DataFrame(row)\n",
    "                df, categories = midia_lexical.lexical_corpus_and_title(row)\n",
    "                # DB categories\n",
    "                if (categories != [set()]):\n",
    "                    news.set_categories(categories)\n",
    "                    midia_table.save_news(news)\n",
    "                    midia_post.post_news(df)\n",
    "        except:\n",
    "            print('Empty News')"
   ]
  },
  {
   "cell_type": "code",
   "execution_count": null,
   "metadata": {},
   "outputs": [],
   "source": [
    "noticias[0]"
   ]
  }
 ],
 "metadata": {
  "kernelspec": {
   "display_name": "Python 3",
   "language": "python",
   "name": "python3"
  },
  "language_info": {
   "codemirror_mode": {
    "name": "ipython",
    "version": 3
   },
   "file_extension": ".py",
   "mimetype": "text/x-python",
   "name": "python",
   "nbconvert_exporter": "python",
   "pygments_lexer": "ipython3",
   "version": "3.6.5"
  }
 },
 "nbformat": 4,
 "nbformat_minor": 2
}
