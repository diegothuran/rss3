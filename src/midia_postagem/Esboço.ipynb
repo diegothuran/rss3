{
 "cells": [
  {
   "cell_type": "code",
   "execution_count": 1,
   "metadata": {},
   "outputs": [],
   "source": [
    "import sys\n",
    "sys.path.insert(0, '../../src')\n",
    "import feedparser\n",
    "import pandas as pd\n",
    "\n",
    "import urllib\n",
    "\n",
    "from postagem.Util import extract_domain, download_and_move_image, get_noticia_comercio\n",
    "from lexical_analyzer_package import midia_lexical\n",
    "from midia_postagem import midia_post\n",
    "from Model.News import News\n",
    "from Database import midia_table\n",
    "\n",
    "from newsplease import NewsPlease\n",
    "from bs4 import BeautifulSoup\n",
    "import requests\n",
    "\n",
    "\n",
    "import datetime\n",
    "import util_midia"
   ]
  },
  {
   "cell_type": "code",
   "execution_count": 2,
   "metadata": {},
   "outputs": [],
   "source": [
    "link = 'https://br.sputniknews.com/'"
   ]
  },
  {
   "cell_type": "code",
   "execution_count": 3,
   "metadata": {},
   "outputs": [],
   "source": [
    "link_site = 'https://br.sputniknews.com'"
   ]
  },
  {
   "cell_type": "code",
   "execution_count": 4,
   "metadata": {},
   "outputs": [],
   "source": [
    "req = requests.get(link)"
   ]
  },
  {
   "cell_type": "code",
   "execution_count": 10,
   "metadata": {},
   "outputs": [],
   "source": [
    "noticias = BeautifulSoup(req.text, \"html.parser\").find_all('div', class_='b-main-news__first-title')\n",
    "noticias += BeautifulSoup(req.text, \"html.parser\").find_all('div', class_='b-main-news__second m-item-2')\n",
    "noticias += BeautifulSoup(req.text, \"html.parser\").find_all('div', class_='b-main-news__second m-item-3')\n",
    "noticias += BeautifulSoup(req.text, \"html.parser\").find_all('div', class_='b-main-news__second m-item-4')\n",
    "noticias += BeautifulSoup(req.text, \"html.parser\").find_all('div', class_='b-main-news__second m-item-5')\n",
    "noticias += BeautifulSoup(req.text, \"html.parser\").find_all('div', class_='b-stories__title')"
   ]
  },
  {
   "cell_type": "code",
   "execution_count": 11,
   "metadata": {
    "scrolled": false
   },
   "outputs": [
    {
     "name": "stdout",
     "output_type": "stream",
     "text": [
      "/ciencia_tecnologia/2018111612689649-portugal-pequenos-satelites-espaco-base-acores/\n",
      "https://br.sputniknews.com/ciencia_tecnologia/2018111612689649-portugal-pequenos-satelites-espaco-base-acores/\n",
      "100% [............................................................................] 622838 / 62283812689487.png\n",
      "C:\\Users\\admin\\rss3\\src\\midia_postagem\\images\\12689487.png\n",
      "[\"Pensando alto: Portugal vai albergar inédito 'porto espacial' para pequenos satélites\"]\n",
      "news_in_db: False\n",
      " -- no categories -- \n",
      "https://br.sputniknews.com/ciencia_tecnologia/2018111612689649-portugal-pequenos-satelites-espaco-base-acores/\n",
      "/defesa/2018111612687255-caca-alemao-impotente-misseis-s400-russia/\n",
      "https://br.sputniknews.com/defesa/2018111612687255-caca-alemao-impotente-misseis-s400-russia/\n",
      "100% [..............................................................................] 99602 / 9960211811843.jpg\n",
      "C:\\Users\\admin\\rss3\\src\\midia_postagem\\images\\11811843.jpg\n",
      "['Mídia: o mais novo caça alemão é impotente perante mísseis S-400 russos']\n",
      "news_in_db: False\n",
      " -- no categories -- \n",
      "https://br.sputniknews.com/defesa/2018111612687255-caca-alemao-impotente-misseis-s400-russia/\n",
      "/asia_oceania/2018111612687088-coreia-norte-testes-arma-alta-tecnologia-kimjongun-eua/\n",
      "https://br.sputniknews.com/asia_oceania/2018111612687088-coreia-norte-testes-arma-alta-tecnologia-kimjongun-eua/\n",
      "100% [..............................................................................] 66538 / 6653812687016.jpg\n",
      "C:\\Users\\admin\\rss3\\src\\midia_postagem\\images\\12687016.jpg\n",
      "[\"Kim Jong-un assiste a testes de novíssima 'arma de alta tecnologia'\"]\n",
      "news_in_db: False\n",
      " -- no categories -- \n",
      "https://br.sputniknews.com/asia_oceania/2018111612687088-coreia-norte-testes-arma-alta-tecnologia-kimjongun-eua/\n",
      "/americas/2018111612691412-saiba-mais-sobre-caca-f52-citado-trump/\n",
      "https://br.sputniknews.com/americas/2018111612691412-saiba-mais-sobre-caca-f52-citado-trump/\n",
      "100% [..............................................................................] 63865 / 6386512691308.jpg\n",
      "C:\\Users\\admin\\rss3\\src\\midia_postagem\\images\\12691308.jpg\n",
      "['Tudo o que você precisa saber sobre caça F-52 citado por Trump']\n",
      "news_in_db: False\n",
      " -- no categories -- \n",
      "https://br.sputniknews.com/americas/2018111612691412-saiba-mais-sobre-caca-f52-citado-trump/\n",
      "/ciencia_tecnologia/2018111612688324-terra-volume-de-agua-engolir/\n",
      "https://br.sputniknews.com/ciencia_tecnologia/2018111612688324-terra-volume-de-agua-engolir/\n",
      "100% [............................................................................] 112812 / 1128129974044.jpg\n",
      "C:\\Users\\admin\\rss3\\src\\midia_postagem\\images\\9974044.jpg\n",
      "['Terra está engolindo enorme volume de água e não sabemos para quê']\n",
      "news_in_db: False\n",
      " -- no categories -- \n",
      "https://br.sputniknews.com/ciencia_tecnologia/2018111612688324-terra-volume-de-agua-engolir/\n",
      "/ciencia_tecnologia/\n",
      "https://br.sputniknews.com/ciencia_tecnologia/\n",
      "100% [..............................................................................] 10827 / 10827logo-soc.png\n",
      "C:\\Users\\admin\\rss3\\src\\midia_postagem\\images\\logo-soc.png\n",
      "['Ciência e tecnologia']\n",
      "news_in_db: False\n",
      " -- no categories -- \n",
      "https://br.sputniknews.com/ciencia_tecnologia/\n",
      "/oriente_medio_africa/\n",
      "https://br.sputniknews.com/oriente_medio_africa/\n",
      "100% [..............................................................................] 10827 / 10827logo-soc.png\n",
      "C:\\Users\\admin\\rss3\\src\\midia_postagem\\images\\logo-soc.png\n",
      "['Oriente Médio e África']\n",
      "news_in_db: False\n",
      " -- no categories -- \n",
      "https://br.sputniknews.com/oriente_medio_africa/\n",
      "/defesa/\n",
      "https://br.sputniknews.com/defesa/\n",
      "100% [..............................................................................] 10827 / 10827logo-soc.png\n",
      "C:\\Users\\admin\\rss3\\src\\midia_postagem\\images\\logo-soc.png\n",
      "['Defesa']\n",
      "news_in_db: False\n",
      " -- no categories -- \n",
      "https://br.sputniknews.com/defesa/\n",
      "/ciencia_tecnologia/\n",
      "https://br.sputniknews.com/ciencia_tecnologia/\n",
      "100% [..............................................................................] 10827 / 10827logo-soc.png\n",
      "C:\\Users\\admin\\rss3\\src\\midia_postagem\\images\\logo-soc.png\n",
      "['Ciência e tecnologia']\n",
      "news_in_db: False\n",
      " -- no categories -- \n",
      "https://br.sputniknews.com/ciencia_tecnologia/\n",
      "/sociedade/\n",
      "https://br.sputniknews.com/sociedade/\n",
      "100% [..............................................................................] 10827 / 10827logo-soc.png\n",
      "C:\\Users\\admin\\rss3\\src\\midia_postagem\\images\\logo-soc.png\n",
      "['Sociedade']\n",
      "news_in_db: False\n",
      " -- no categories -- \n",
      "https://br.sputniknews.com/sociedade/\n",
      "/mundo_insolito/\n",
      "https://br.sputniknews.com/mundo_insolito/\n",
      "100% [..............................................................................] 10827 / 10827logo-soc.png\n",
      "C:\\Users\\admin\\rss3\\src\\midia_postagem\\images\\logo-soc.png\n",
      "['Mundo insólito']\n",
      "news_in_db: False\n",
      " -- no categories -- \n",
      "https://br.sputniknews.com/mundo_insolito/\n",
      "/defesa/\n",
      "https://br.sputniknews.com/defesa/\n",
      "100% [..............................................................................] 10827 / 10827logo-soc.png\n",
      "C:\\Users\\admin\\rss3\\src\\midia_postagem\\images\\logo-soc.png\n",
      "['Defesa']\n",
      "news_in_db: False\n",
      " -- no categories -- \n",
      "https://br.sputniknews.com/defesa/\n",
      "/sociedade/\n",
      "https://br.sputniknews.com/sociedade/\n",
      "100% [..............................................................................] 10827 / 10827logo-soc.png\n",
      "C:\\Users\\admin\\rss3\\src\\midia_postagem\\images\\logo-soc.png\n",
      "['Sociedade']\n",
      "news_in_db: False\n",
      " -- no categories -- \n",
      "https://br.sputniknews.com/sociedade/\n",
      "/defesa/2018111512682523-reinounido-f35-eua-encomenda/\n",
      "https://br.sputniknews.com/defesa/2018111512682523-reinounido-f35-eua-encomenda/\n",
      "100% [..............................................................................] 40745 / 4074512682469.jpg\n",
      "C:\\Users\\admin\\rss3\\src\\midia_postagem\\images\\12682469.jpg\n",
      "['Reino Unido vai dobrar frota de caças F-35 tendo encomendado mais 17 aviões']\n",
      "news_in_db: False\n",
      " -- no categories -- \n",
      "https://br.sputniknews.com/defesa/2018111512682523-reinounido-f35-eua-encomenda/\n",
      "/defesa/2018111412672852-tanques-sovieticos-prontos-para-batalhar/\n",
      "https://br.sputniknews.com/defesa/2018111412672852-tanques-sovieticos-prontos-para-batalhar/\n",
      "100% [..............................................................................] 61078 / 6107812672723.jpg\n",
      "C:\\Users\\admin\\rss3\\src\\midia_postagem\\images\\12672723.jpg\n",
      "['Como tanques soviéticos continuam prontos para batalhar em qualquer lugar? Entenda!']\n",
      "news_in_db: False\n",
      " -- no categories -- \n",
      "https://br.sputniknews.com/defesa/2018111412672852-tanques-sovieticos-prontos-para-batalhar/\n",
      "/defesa/2018111412672156-governo-britanico-acusado-financiar-drone-assassinos/\n",
      "https://br.sputniknews.com/defesa/2018111412672156-governo-britanico-acusado-financiar-drone-assassinos/\n",
      "100% [..............................................................................] 63855 / 6385512671851.jpg\n",
      "C:\\Users\\admin\\rss3\\src\\midia_postagem\\images\\12671851.jpg\n",
      "[\"Governo britânico é acusado de financiar 'drones assassinos'\"]\n",
      "news_in_db: False\n",
      " -- no categories -- \n",
      "https://br.sputniknews.com/defesa/2018111412672156-governo-britanico-acusado-financiar-drone-assassinos/\n",
      "/defesa/2018111412672312-armas-ucranianas-urss-morteiro-fuzil/\n",
      "https://br.sputniknews.com/defesa/2018111412672312-armas-ucranianas-urss-morteiro-fuzil/\n",
      "100% [............................................................................] 130769 / 13076911955525.jpg\n",
      "C:\\Users\\admin\\rss3\\src\\midia_postagem\\images\\11955525.jpg\n",
      "['Conheça 4 armas que construtores ucranianos tentaram copiar da URSS e falharam']\n",
      "news_in_db: False\n",
      " -- no categories -- \n",
      "https://br.sputniknews.com/defesa/2018111412672312-armas-ucranianas-urss-morteiro-fuzil/\n"
     ]
    }
   ],
   "source": [
    "for noticia in noticias:\n",
    "    print(noticia.find_all('a', href=True)[0]['href'])\n",
    "    ref_link = noticia.find_all('a', href=True)[0]['href'] \n",
    "    print(link_site+ref_link)\n",
    "    if (link_site not in ref_link):\n",
    "        util_midia.social_news_from_link(link_site+ref_link)\n",
    "        print(link_site+ref_link)\n",
    "    else:\n",
    "        util_midia.social_news_from_link(ref_link)\n",
    "        print(ref_link)"
   ]
  },
  {
   "cell_type": "code",
   "execution_count": 7,
   "metadata": {
    "scrolled": true
   },
   "outputs": [
    {
     "data": {
      "text/plain": [
       "<div class=\"b-main-news__second m-item-2\"><a class=\"b-main-news__second-img\" href=\"/defesa/2018111612687255-caca-alemao-impotente-misseis-s400-russia/\"><img alt=\"Sistemas de defesa antimísseis S-400 da Rússia (foto do arquivo)\" class=\"\" height=\"450\" src=\"https://cdnbr2.img.sputniknews.com/images/1181/18/11811847.jpg\" title=\"Sistemas de defesa antimísseis S-400 da Rússia (foto do arquivo)\" width=\"638\"/></a><a class=\"b-main-news__second-title\" href=\"/defesa/2018111612687255-caca-alemao-impotente-misseis-s400-russia/\"><span>Mídia:</span> <span>o</span> <span>mais</span> <span>novo</span> <span>caça</span> <span>alemão</span> <span>é</span> <span>impotente</span> <span>perante</span> <span>mísseis</span> <span>S-400</span> <span>russos</span></a></div>"
      ]
     },
     "execution_count": 7,
     "metadata": {},
     "output_type": "execute_result"
    }
   ],
   "source": [
    "noticias[0]"
   ]
  }
 ],
 "metadata": {
  "kernelspec": {
   "display_name": "Python 3",
   "language": "python",
   "name": "python3"
  },
  "language_info": {
   "codemirror_mode": {
    "name": "ipython",
    "version": 3
   },
   "file_extension": ".py",
   "mimetype": "text/x-python",
   "name": "python",
   "nbconvert_exporter": "python",
   "pygments_lexer": "ipython3",
   "version": "3.6.5"
  }
 },
 "nbformat": 4,
 "nbformat_minor": 2
}
