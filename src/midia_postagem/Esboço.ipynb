{
 "cells": [
  {
   "cell_type": "code",
   "execution_count": 1,
   "metadata": {},
   "outputs": [],
   "source": [
    "import sys\n",
    "sys.path.insert(0, '../../src')\n",
    "import feedparser\n",
    "import pandas as pd\n",
    "\n",
    "import urllib\n",
    "\n",
    "from postagem.Util import extract_domain, download_and_move_image, get_noticia_comercio\n",
    "from lexical_analyzer_package import midia_lexical\n",
    "from midia_postagem import midia_post\n",
    "from Model.News import News\n",
    "from Database import midia_table\n",
    "\n",
    "from newsplease import NewsPlease\n",
    "from bs4 import BeautifulSoup\n",
    "import requests\n",
    "\n",
    "import datetime"
   ]
  },
  {
   "cell_type": "code",
   "execution_count": 2,
   "metadata": {},
   "outputs": [],
   "source": [
    "link = 'http://www.blogdopaulonunes.com/v4/?cat=6'"
   ]
  },
  {
   "cell_type": "code",
   "execution_count": 3,
   "metadata": {},
   "outputs": [],
   "source": [
    "req = requests.get(link)"
   ]
  },
  {
   "cell_type": "code",
   "execution_count": 4,
   "metadata": {},
   "outputs": [],
   "source": [
    "noticias = BeautifulSoup(req.text, \"html.parser\").find_all('h2', class_='entry-title')"
   ]
  },
  {
   "cell_type": "code",
   "execution_count": 5,
   "metadata": {
    "scrolled": false
   },
   "outputs": [
    {
     "name": "stdout",
     "output_type": "stream",
     "text": [
      "http://www.blogdopaulonunes.com/v4/?p=31789\n",
      "http://www.blogdopaulonunes.com/v4/wp-content/uploads/2018/10/caravana-conquista.jpg\n",
      "HTTP Error 403: Forbidden\n",
      "['Caravana reforça campanha de Haddad no Sudoeste']\n",
      "news_in_db: False\n",
      " -- no categories -- \n",
      "http://www.blogdopaulonunes.com/v4/?p=31571\n",
      "http://www.blogdopaulonunes.com/v4/wp-content/uploads/2018/09/foto-mapa.png\n",
      "HTTP Error 403: Forbidden\n",
      "['Veja a ficha completa dos parlamentares candidatos']\n",
      "news_in_db: False\n",
      " -- no categories -- \n",
      "http://www.blogdopaulonunes.com/v4/?p=31391\n",
      "http://www.blogdopaulonunes.com/v4/wp-content/uploads/2017/06/VEREDINHA.jpg\n",
      "HTTP Error 403: Forbidden\n",
      "['Prefeito escondeu: Emenda de Waldenor garante R$ 375.740,00 para pavimentação em Veredinha']\n",
      "news_in_db: False\n",
      " -- no categories -- \n",
      "http://www.blogdopaulonunes.com/v4/?p=31388\n",
      "http://www.blogdopaulonunes.com/v4/wp-content/uploads/2018/09/Boaechart.jpg\n",
      "HTTP Error 403: Forbidden\n",
      "['Boechat zoa com frase de Lúcio de que é deputado que mais trouxe dinheiro para Bahia']\n",
      "news_in_db: False\n",
      " -- no categories -- \n",
      "http://www.blogdopaulonunes.com/v4/?p=31382\n",
      "http://www.blogdopaulonunes.com/v4/wp-content/uploads/2018/09/azambuja.jpg\n",
      "HTTP Error 403: Forbidden\n",
      "['PF faz buscas na casa do governador tucano do MS']\n",
      "news_in_db: False\n",
      " -- no categories -- \n",
      "http://www.blogdopaulonunes.com/v4/?p=31379\n",
      "http://www.blogdopaulonunes.com/v4/wp-content/uploads/2018/09/Beto-Richa.jpg\n",
      "HTTP Error 403: Forbidden\n",
      "['Ex-governador do Paraná, Beto Richa, do PSDB, é preso por corrupção']\n",
      "news_in_db: False\n",
      " -- no categories -- \n",
      "http://www.blogdopaulonunes.com/v4/?p=31108\n",
      "http://www.blogdopaulonunes.com/v4/wp-content/uploads/2018/08/estúpido-1.jpg\n",
      "HTTP Error 403: Forbidden\n",
      "['Marco Aurélio libera denúncia contra Bolsonaro para julgamento no STF']\n",
      "news_in_db: False\n",
      " -- no categories -- \n",
      "http://www.blogdopaulonunes.com/v4/?p=31095\n",
      "http://www.blogdopaulonunes.com/v4/wp-content/uploads/2018/08/rui-costa-nelson-pelegrino.jpg\n",
      "HTTP Error 403: Forbidden\n",
      "['Pesquisa aponta vitória de Rui Costa em 1º turno com 51%']\n",
      "news_in_db: False\n",
      " -- no categories -- \n",
      "http://www.blogdopaulonunes.com/v4/?p=31091\n",
      "http://www.blogdopaulonunes.com/v4/wp-content/uploads/2018/08/Pesquisa-2.jpg\n",
      "HTTP Error 403: Forbidden\n",
      "['Lula lidera corrida presidencial com 39%, diz Datafolha; Bolsonaro tem 19%']\n",
      "news_in_db: False\n",
      " -- no categories -- \n",
      "http://www.blogdopaulonunes.com/v4/?p=31058\n",
      "http://www.blogdopaulonunes.com/v4/wp-content/uploads/2018/08/ganhou.jpg\n",
      "HTTP Error 403: Forbidden\n",
      "['Pesquisa Ibope de 20 de agosto para presidente por sexo, idade, escolaridade, renda, região, religião e raça']\n",
      "news_in_db: False\n",
      " -- no categories -- \n",
      "http://www.blogdopaulonunes.com/v4/?p=31049\n",
      "http://www.blogdopaulonunes.com/v4/wp-content/uploads/2018/08/vc-vai-votar-neles.jpeg\n",
      "100% [............................................................................] 108606 / 108606vc-vai-votar-neles.jpeg\n",
      "C:\\Users\\admin\\rss3\\src\\midia_postagem\\images\\vc-vai-votar-neles.jpeg\n",
      "['Governo Temer tem apenas 2,7% de aprovação entre os brasileiros']\n",
      "news_in_db: False\n",
      " -- no categories -- \n",
      "http://www.blogdopaulonunes.com/v4/?p=31008\n",
      "http://www.blogdopaulonunes.com/v4/wp-content/uploads/2018/08/Lidice.jpeg\n",
      "HTTP Error 403: Forbidden\n",
      "['Lídice minimiza queixa do PSB e diz que base de Neto vive ‘inferno astral’']\n",
      "news_in_db: False\n",
      " -- no categories -- \n"
     ]
    }
   ],
   "source": [
    "for noticia in noticias:\n",
    "    print(noticia.find_all('a', href=True)[0]['href'])\n",
    "    article = NewsPlease.from_url(noticia.find_all('a', href=True)[0]['href'])\n",
    "    row = {'titulos': [], 'links': [], 'noticia': [], 'image': [], 'abstract': [], 'date': []}\n",
    "    if (article is not None):\n",
    "        row['titulos'].append(article.title)\n",
    "        row['noticia'].append(article.text)\n",
    "        row['links'].append(article.url)\n",
    "        row['abstract'].append(article.text)\n",
    "        row['date'].append(article.date_publish)\n",
    "        path_image = article.image_url\n",
    "        print(path_image)\n",
    "        if path_image == '' or path_image == None:\n",
    "            row['image'].append(0)\n",
    "        else:\n",
    "            row['image'].append(download_and_move_image(article.image_url))\n",
    "        news = News(row['abstract'], row['noticia'], row['date'], row['links'], row['titulos'], row['image'])\n",
    "        try:\n",
    "            print(row['titulos'])\n",
    "            news_in_db = midia_table.check_news(news)\n",
    "            print('news_in_db: ' + str(news_in_db))\n",
    "            if (not news_in_db):\n",
    "                row = pd.DataFrame(row)\n",
    "                df, categories = midia_lexical.lexical_corpus_and_title(row)\n",
    "                # DB categories\n",
    "                if (categories != [set()]):\n",
    "                    news.set_categories(categories)\n",
    "                    midia_table.save_news(news)\n",
    "                    midia_post.post_news(df)\n",
    "        except:\n",
    "            print('Empty News')"
   ]
  },
  {
   "cell_type": "code",
   "execution_count": 6,
   "metadata": {},
   "outputs": [
    {
     "data": {
      "text/plain": [
       "<h2 class=\"entry-title\">\n",
       "<a href=\"http://www.blogdopaulonunes.com/v4/?p=31789\">\n",
       "          Caravana reforça campanha de Haddad no Sudoeste        </a>\n",
       "</h2>"
      ]
     },
     "execution_count": 6,
     "metadata": {},
     "output_type": "execute_result"
    }
   ],
   "source": [
    "noticias[0]"
   ]
  }
 ],
 "metadata": {
  "kernelspec": {
   "display_name": "Python 3",
   "language": "python",
   "name": "python3"
  },
  "language_info": {
   "codemirror_mode": {
    "name": "ipython",
    "version": 3
   },
   "file_extension": ".py",
   "mimetype": "text/x-python",
   "name": "python",
   "nbconvert_exporter": "python",
   "pygments_lexer": "ipython3",
   "version": "3.6.5"
  }
 },
 "nbformat": 4,
 "nbformat_minor": 2
}
