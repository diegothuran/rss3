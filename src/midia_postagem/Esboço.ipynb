{
 "cells": [
  {
   "cell_type": "code",
   "execution_count": 1,
   "metadata": {},
   "outputs": [],
   "source": [
    "import sys\n",
    "sys.path.insert(0, '../../src')\n",
    "import feedparser\n",
    "import pandas as pd\n",
    "\n",
    "import urllib\n",
    "\n",
    "from postagem.Util import extract_domain, download_and_move_image, get_noticia_comercio\n",
    "from lexical_analyzer_package import midia_lexical\n",
    "from midia_postagem import midia_post\n",
    "from Model.News import News\n",
    "from Database import midia_table\n",
    "\n",
    "from newsplease import NewsPlease\n",
    "from bs4 import BeautifulSoup\n",
    "import requests\n",
    "\n",
    "import datetime\n",
    "import util_midia"
   ]
  },
  {
   "cell_type": "code",
   "execution_count": 2,
   "metadata": {},
   "outputs": [],
   "source": [
    "link = 'https://canaltech.com.br/'"
   ]
  },
  {
   "cell_type": "code",
   "execution_count": 7,
   "metadata": {},
   "outputs": [],
   "source": [
    "link_site = 'https://canaltech.com.br'"
   ]
  },
  {
   "cell_type": "code",
   "execution_count": 8,
   "metadata": {},
   "outputs": [],
   "source": [
    "req = requests.get(link)"
   ]
  },
  {
   "cell_type": "code",
   "execution_count": 9,
   "metadata": {},
   "outputs": [],
   "source": [
    "noticias = BeautifulSoup(req.text, \"html.parser\").find_all('div', class_='item row')"
   ]
  },
  {
   "cell_type": "code",
   "execution_count": 18,
   "metadata": {
    "scrolled": false
   },
   "outputs": [
    {
     "name": "stdout",
     "output_type": "stream",
     "text": [
      "/e-commerce/correios-estao-encaminhando-eletronicos-importados-para-homologacao-pela-anatel-125690/\n",
      "https://canaltech.com.br/e-commerce/correios-estao-encaminhando-eletronicos-importados-para-homologacao-pela-anatel-125690/\n",
      "HTTP Error 403: Forbidden\n",
      "['Correios estão encaminhando eletrônicos importados para homologação pela Anatel']\n",
      "news_in_db: False\n",
      " -- no categories -- \n",
      "https://canaltech.com.br/e-commerce/correios-estao-encaminhando-eletronicos-importados-para-homologacao-pela-anatel-125690/\n",
      "/e-commerce/correios-estao-encaminhando-eletronicos-importados-para-homologacao-pela-anatel-125690/\n",
      "https://canaltech.com.br/e-commerce/correios-estao-encaminhando-eletronicos-importados-para-homologacao-pela-anatel-125690/\n",
      "HTTP Error 403: Forbidden\n",
      "['Correios estão encaminhando eletrônicos importados para homologação pela Anatel']\n",
      "news_in_db: False\n",
      " -- no categories -- \n",
      "https://canaltech.com.br/e-commerce/correios-estao-encaminhando-eletronicos-importados-para-homologacao-pela-anatel-125690/\n",
      "/mercado/nubank-comeca-a-oferecer-opcao-de-debito-afirmam-usuarios-empresa-nega-125676/\n",
      "https://canaltech.com.br/mercado/nubank-comeca-a-oferecer-opcao-de-debito-afirmam-usuarios-empresa-nega-125676/\n",
      "HTTP Error 403: Forbidden\n",
      "['Nubank começa a oferecer opção de débito, afirmam usuários; empresa nega']\n",
      "news_in_db: False\n",
      " -- no categories -- \n",
      "https://canaltech.com.br/mercado/nubank-comeca-a-oferecer-opcao-de-debito-afirmam-usuarios-empresa-nega-125676/\n",
      "/entretenimento/netflix-confira-os-lancamentos-da-semana-1910-a-2510-125654/\n",
      "https://canaltech.com.br/entretenimento/netflix-confira-os-lancamentos-da-semana-1910-a-2510-125654/\n",
      "HTTP Error 403: Forbidden\n",
      "['Netflix | Confira os lançamentos da semana (19/10 a 25/10)']\n",
      "news_in_db: False\n",
      " -- no categories -- \n",
      "https://canaltech.com.br/entretenimento/netflix-confira-os-lancamentos-da-semana-1910-a-2510-125654/\n",
      "/apps/whatsapp-comeca-a-liberar-stickers-no-android-e-ios-125672/\n",
      "https://canaltech.com.br/apps/whatsapp-comeca-a-liberar-stickers-no-android-e-ios-125672/\n",
      "HTTP Error 403: Forbidden\n",
      "['WhatsApp começa a liberar stickers no Android e iOS']\n",
      "news_in_db: False\n",
      " -- no categories -- \n",
      "https://canaltech.com.br/apps/whatsapp-comeca-a-liberar-stickers-no-android-e-ios-125672/\n"
     ]
    }
   ],
   "source": [
    "for noticia in noticias:\n",
    "    print(noticia.find_all('a', href=True)[0]['href'])\n",
    "    ref_link = noticia.find_all('a', href=True)[0]['href']\n",
    "    print(link_site+ref_link)\n",
    "    if (link_site not in ref_link):\n",
    "        util_midia.social_news_from_link(link_site+ref_link)\n",
    "        print(link_site+ref_link)\n",
    "    elif(ref_link == ref_link):\n",
    "        continue\n",
    "    else:\n",
    "        util_midia.social_news_from_link(ref_link)\n",
    "        print(ref_link)"
   ]
  },
  {
   "cell_type": "code",
   "execution_count": null,
   "metadata": {},
   "outputs": [],
   "source": [
    "noticias[0]"
   ]
  }
 ],
 "metadata": {
  "kernelspec": {
   "display_name": "Python 3",
   "language": "python",
   "name": "python3"
  },
  "language_info": {
   "codemirror_mode": {
    "name": "ipython",
    "version": 3
   },
   "file_extension": ".py",
   "mimetype": "text/x-python",
   "name": "python",
   "nbconvert_exporter": "python",
   "pygments_lexer": "ipython3",
   "version": "3.6.5"
  }
 },
 "nbformat": 4,
 "nbformat_minor": 2
}
