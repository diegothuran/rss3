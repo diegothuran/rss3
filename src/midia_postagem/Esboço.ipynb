{
 "cells": [
  {
   "cell_type": "code",
   "execution_count": 1,
   "metadata": {},
   "outputs": [],
   "source": [
    "import sys\n",
    "sys.path.insert(0, '../../src')\n",
    "import feedparser\n",
    "import pandas as pd\n",
    "\n",
    "import urllib\n",
    "\n",
    "from postagem.Util import extract_domain, download_and_move_image, get_noticia_comercio\n",
    "from lexical_analyzer_package import midia_lexical\n",
    "from midia_postagem import midia_post\n",
    "from Model.News import News\n",
    "from Database import midia_table\n",
    "\n",
    "from newsplease import NewsPlease\n",
    "from bs4 import BeautifulSoup\n",
    "import requests\n",
    "\n",
    "import datetime"
   ]
  },
  {
   "cell_type": "code",
   "execution_count": 2,
   "metadata": {},
   "outputs": [],
   "source": [
    "link = 'https://www.revistaforum.com.br/politica/'"
   ]
  },
  {
   "cell_type": "code",
   "execution_count": 3,
   "metadata": {},
   "outputs": [],
   "source": [
    "req = requests.get(link)"
   ]
  },
  {
   "cell_type": "code",
   "execution_count": 4,
   "metadata": {},
   "outputs": [],
   "source": [
    "noticias = BeautifulSoup(req.text, \"html.parser\").find_all('h4', class_='media-heading')"
   ]
  },
  {
   "cell_type": "code",
   "execution_count": null,
   "metadata": {
    "scrolled": true
   },
   "outputs": [
    {
     "name": "stdout",
     "output_type": "stream",
     "text": [
      "https://www.revistaforum.com.br/policiais-e-militares-eleitos-para-o-legislativo-aumentam-de-18-para-73/\n",
      "https://www.revistaforum.com.br/wp-content/uploads/2018/10/urnas.jpg\n",
      "100% [..............................................................................] 38384 / 38384urnas.jpg\n",
      "C:\\Users\\admin\\rss3\\src\\midia_postagem\\images\\urnas.jpg\n",
      "['Policiais e militares eleitos para o Legislativo aumentam de 18 para 73']\n",
      "news_in_db: False\n",
      " -- no categories -- \n",
      "https://www.revistaforum.com.br/nunca-comemorei-tanto-um-erro-do-meu-pai-diz-filho-de-noblat/\n",
      "https://www.revistaforum.com.br/wp-content/uploads/2018/10/guganoblat.png\n",
      "100% [..............................................................................] 24538 / 24538guganoblat.png\n",
      "C:\\Users\\admin\\rss3\\src\\midia_postagem\\images\\guganoblat.png\n",
      "['\"Nunca comemorei tanto um erro do meu pai\", diz filho de Noblat']\n",
      "news_in_db: False\n",
      " -- no categories -- \n",
      "https://www.revistaforum.com.br/trabalhadores-dos-eua-enviam-mais-de-700-cartoes-postais-para-lula/\n",
      "https://www.revistaforum.com.br/wp-content/uploads/2018/10/metalurgica.jpeg\n",
      "100% [............................................................................] 221620 / 221620metalurgica.jpeg\n",
      "C:\\Users\\admin\\rss3\\src\\midia_postagem\\images\\metalurgica.jpeg\n",
      "['Trabalhadores dos EUA enviam mais de 700 cartões postais para Lula']\n",
      "news_in_db: False\n",
      " -- no categories -- \n",
      "https://www.revistaforum.com.br/e-comunista-jovem-veste-camiseta-vermelha-e-e-agredido-por-eleitores-de-bolsonaro/\n",
      "https://www.revistaforum.com.br/wp-content/uploads/2018/10/bolsonaro-3.jpg\n",
      "100% [..............................................................................] 40870 / 40870bolsonaro-3.jpg\n",
      "C:\\Users\\admin\\rss3\\src\\midia_postagem\\images\\bolsonaro-3.jpg\n",
      "['“É comunista”: jovem veste camiseta vermelha e é agredido por eleitores de Bolsonaro']\n",
      "news_in_db: False\n",
      " -- no categories -- \n",
      "https://www.revistaforum.com.br/primeiro-senador-gay-a-se-eleger-tira-a-vaga-de-magno-malta-aliado-de-bolsonaro/\n",
      "https://www.revistaforum.com.br/wp-content/uploads/2018/10/contaratomagno.png\n"
     ]
    }
   ],
   "source": [
    "for noticia in noticias:\n",
    "    print(noticia.find_all('a', href=True)[0]['href'])\n",
    "    article = NewsPlease.from_url(noticia.find_all('a', href=True)[0]['href'])\n",
    "    row = {'titulos': [], 'links': [], 'noticia': [], 'image': [], 'abstract': [], 'date': []}\n",
    "    if (article is not None):\n",
    "        row['titulos'].append(article.title)\n",
    "        row['noticia'].append(article.text)\n",
    "        row['links'].append(article.url)\n",
    "        row['abstract'].append(article.text)\n",
    "        row['date'].append(article.date_publish)\n",
    "        path_image = article.image_url\n",
    "        print(path_image)\n",
    "        if path_image == '' or path_image == None:\n",
    "            row['image'].append(0)\n",
    "        else:\n",
    "            row['image'].append(download_and_move_image(article.image_url))\n",
    "        news = News(row['abstract'], row['noticia'], row['date'], row['links'], row['titulos'], row['image'])\n",
    "        try:\n",
    "            print(row['titulos'])\n",
    "            news_in_db = midia_table.check_news(news)\n",
    "            print('news_in_db: ' + str(news_in_db))\n",
    "            if (not news_in_db):\n",
    "                row = pd.DataFrame(row)\n",
    "                df, categories = midia_lexical.lexical_corpus_and_title(row)\n",
    "                # DB categories\n",
    "                if (categories != [set()]):\n",
    "                    news.set_categories(categories)\n",
    "                    midia_table.save_news(news)\n",
    "                    midia_post.post_news(df)\n",
    "        except:\n",
    "            print('Empty News')"
   ]
  },
  {
   "cell_type": "code",
   "execution_count": null,
   "metadata": {},
   "outputs": [],
   "source": [
    "noticias[0]"
   ]
  }
 ],
 "metadata": {
  "kernelspec": {
   "display_name": "Python 3",
   "language": "python",
   "name": "python3"
  },
  "language_info": {
   "codemirror_mode": {
    "name": "ipython",
    "version": 3
   },
   "file_extension": ".py",
   "mimetype": "text/x-python",
   "name": "python",
   "nbconvert_exporter": "python",
   "pygments_lexer": "ipython3",
   "version": "3.6.5"
  }
 },
 "nbformat": 4,
 "nbformat_minor": 2
}
