{
 "cells": [
  {
   "cell_type": "code",
   "execution_count": 1,
   "metadata": {},
   "outputs": [],
   "source": [
    "import sys\n",
    "sys.path.insert(0, '../../src')\n",
    "import feedparser\n",
    "import pandas as pd\n",
    "\n",
    "import urllib\n",
    "\n",
    "from postagem.Util import extract_domain, download_and_move_image, get_noticia_comercio\n",
    "from lexical_analyzer_package import midia_lexical\n",
    "from midia_postagem import midia_post\n",
    "from Model.News import News\n",
    "from Database import midia_table\n",
    "\n",
    "from newsplease import NewsPlease\n",
    "from bs4 import BeautifulSoup\n",
    "import requests\n",
    "\n",
    "import datetime"
   ]
  },
  {
   "cell_type": "code",
   "execution_count": 2,
   "metadata": {},
   "outputs": [],
   "source": [
    "link = 'https://jornalivre.com/category/noticia/'"
   ]
  },
  {
   "cell_type": "code",
   "execution_count": 3,
   "metadata": {},
   "outputs": [],
   "source": [
    "req = requests.get(link)"
   ]
  },
  {
   "cell_type": "code",
   "execution_count": 5,
   "metadata": {},
   "outputs": [],
   "source": [
    "noticias = BeautifulSoup(req.text, \"html.parser\").find_all('h1', class_='entry-title')"
   ]
  },
  {
   "cell_type": "code",
   "execution_count": 6,
   "metadata": {
    "scrolled": true
   },
   "outputs": [
    {
     "name": "stdout",
     "output_type": "stream",
     "text": [
      "https://jornalivre.com/2018/02/06/pt-diz-que-nao-vai-reconhecer-resultado-da-eleicao-se-lula-nao-for-candidato-como-se-alguem-se-importasse/\n",
      "https://i1.wp.com/jornalivre.com/wp-content/uploads/2018/02/lula-e-gleisi-ricardo-stuckert-780x489.jpg?fit=780%2C489&ssl=1\n",
      "100% [..............................................................................] 58476 / 58476lula-e-gleisi-ricardo-stuckert-780x489.jpg\n",
      "C:\\Users\\admin\\rss3\\src\\midia_postagem\\images\\lula-e-gleisi-ricardo-stuckert-780x489.jpg\n",
      "['PT diz que não vai reconhecer resultado da eleição se Lula não for candidato… Como se alguém se importasse']\n",
      "news_in_db: False\n",
      " -- no categories -- \n",
      "https://jornalivre.com/2018/02/06/marqueteiro-de-lula-em-2006-diz-que-palocci-propos-caixa-2-no-exterior/\n",
      "https://i1.wp.com/jornalivre.com/wp-content/uploads/2018/02/IMAGEM_NOTICIA_0.jpg?fit=890%2C500&ssl=1\n",
      "100% [..............................................................................] 61239 / 61239IMAGEM_NOTICIA_0.jpg\n",
      "C:\\Users\\admin\\rss3\\src\\midia_postagem\\images\\IMAGEM_NOTICIA_0.jpg\n",
      "['Marqueteiro de Lula em 2006 diz que Palocci propôs caixa 2 no exterior']\n",
      "news_in_db: False\n",
      " -- no categories -- \n",
      "https://jornalivre.com/2018/02/06/apenas-65-dos-513-deputados-registraram-presenca-na-volta-do-recesso/\n",
      "https://i1.wp.com/jornalivre.com/wp-content/uploads/2018/02/whatsapp_image_2018-02-05_at_17.41.30.jpeg?fit=560%2C350&ssl=1\n",
      "100% [..............................................................................] 61060 / 61060whatsapp_image_2018-02-05_at_17.41.30.jpeg\n",
      "C:\\Users\\admin\\rss3\\src\\midia_postagem\\images\\whatsapp_image_2018-02-05_at_17.41.30.jpeg\n",
      "['Apenas 65 dos 513 deputados registraram presença na volta do recesso']\n",
      "news_in_db: False\n",
      " -- no categories -- \n",
      "https://jornalivre.com/2018/02/05/senador-vai-ao-conselho-de-etica-contra-lindbergh-e-gleisi-hoffmann/\n",
      "https://i1.wp.com/jornalivre.com/wp-content/uploads/2018/02/xINFOCHPDPICT000067795344.jpg.pagespeed.ic_.gWBKccmmUg.jpg?fit=699%2C420&ssl=1\n",
      "100% [..............................................................................] 48043 / 48043xINFOCHPDPICT000067795344.jpg.pagespeed.ic_.gWBKccmmUg.jpg\n",
      "C:\\Users\\admin\\rss3\\src\\midia_postagem\\images\\xINFOCHPDPICT000067795344.jpg.pagespeed.ic_.gWBKccmmUg.jpg\n",
      "['Senador vai ao Conselho de Ética contra Lindbergh e Gleisi Hoffmann']\n",
      "news_in_db: False\n",
      " -- no categories -- \n",
      "https://jornalivre.com/2018/02/05/raquel-dodge-pisa-se-posiciona-contra-o-voto-impresso/\n",
      "https://i1.wp.com/jornalivre.com/wp-content/uploads/2018/02/mp_raquel_dodge_antonio_cruz_ag_brasil.jpeg?fit=620%2C430&ssl=1\n",
      "100% [..............................................................................] 33686 / 33686mp_raquel_dodge_antonio_cruz_ag_brasil.jpeg\n",
      "C:\\Users\\admin\\rss3\\src\\midia_postagem\\images\\mp_raquel_dodge_antonio_cruz_ag_brasil.jpeg\n",
      "['Raquel Dodge pisa se posiciona contra o voto impresso']\n",
      "news_in_db: False\n",
      " -- no categories -- \n",
      "https://jornalivre.com/2018/02/05/fachin-libera-acao-penal-contra-gleisi-para-revisao/\n",
      "https://i2.wp.com/jornalivre.com/wp-content/uploads/2018/02/gleisi-hoffmann-fala-como-se-fosse-lider-do-crime-organizado-e-ameaca-pais-com-mortes-se-lula-for-preso-entenda-por-que.jpg?fit=669%2C484&ssl=1\n",
      "100% [..............................................................................] 44292 / 44292gleisi-hoffmann-fala-como-se-fosse-lider-do-crime-organizado-e-ameaca-pais-com-mortes-se-lula-for-preso-entenda-por-que.jpg\n",
      "C:\\Users\\admin\\rss3\\src\\midia_postagem\\images\\gleisi-hoffmann-fala-como-se-fosse-lider-do-crime-organizado-e-ameaca-pais-com-mortes-se-lula-for-preso-entenda-por-que.jpg\n",
      "['Fachin libera ação penal contra Gleisi para revisão']\n",
      "news_in_db: False\n",
      " -- no categories -- \n",
      "https://jornalivre.com/2018/02/05/conservadora-americana-detona-democratas-eu-ja-defendia-vitimas-de-agressao-sexual-antes-de-virar-moda/\n",
      "https://i0.wp.com/jornalivre.com/wp-content/uploads/2018/02/ann-coulter-1280x720.jpg?fit=1200%2C675&ssl=1\n",
      "100% [..............................................................................] 81309 / 81309ann-coulter-1280x720.jpg\n",
      "C:\\Users\\admin\\rss3\\src\\midia_postagem\\images\\ann-coulter-1280x720.jpg\n",
      "['Conservadora americana detona Democratas: “Eu já defendia vítimas de agressão sexual antes de virar moda”']\n",
      "news_in_db: False\n",
      " -- no categories -- \n",
      "https://jornalivre.com/2018/02/05/lula-estaria-planejando-fugir-para-alguma-embaixada-a-fim-de-escapar-da-prisao/\n",
      "https://i0.wp.com/jornalivre.com/wp-content/uploads/2018/02/lulaaa.jpg?fit=631%2C458&ssl=1\n",
      "100% [..............................................................................] 32317 / 32317lulaaa.jpg\n",
      "C:\\Users\\admin\\rss3\\src\\midia_postagem\\images\\lulaaa.jpg\n",
      "['Lula estaria planejando fugir para alguma embaixada a fim de escapar da prisão']\n",
      "news_in_db: False\n",
      " -- no categories -- \n",
      "https://jornalivre.com/2018/02/05/apos-anuncio-feito-pela-f1-motogp-afirma-que-ira-manter-as-grid-girls/\n",
      "https://i0.wp.com/jornalivre.com/wp-content/uploads/2018/02/grid_2_NNVXFBB.jpg?fit=1200%2C800&ssl=1\n",
      "100% [............................................................................] 223951 / 223951grid_2_NNVXFBB.jpg\n",
      "C:\\Users\\admin\\rss3\\src\\midia_postagem\\images\\grid_2_NNVXFBB.jpg\n",
      "['Após anúncio feito pela F1, MotoGP afirma que irá manter as grid girls']\n",
      "news_in_db: False\n",
      " -- no categories -- \n",
      "https://jornalivre.com/2018/02/05/pt-deve-fazer-proposta-para-manuela-desistir-da-candidatura-presidencial-em-2018/\n",
      "https://i2.wp.com/jornalivre.com/wp-content/uploads/2018/02/img_4193.jpg?fit=848%2C635&ssl=1\n",
      "100% [..............................................................................] 60261 / 60261img_4193.jpg\n",
      "C:\\Users\\admin\\rss3\\src\\midia_postagem\\images\\img_4193.jpg\n",
      "['PT deve fazer proposta para Manuela desistir da candidatura presidencial em 2018']\n",
      "news_in_db: False\n",
      " -- no categories -- \n"
     ]
    }
   ],
   "source": [
    "for noticia in noticias:\n",
    "    print(noticia.find_all('a', href=True)[0]['href'])\n",
    "    article = NewsPlease.from_url(noticia.find_all('a', href=True)[0]['href'])\n",
    "    row = {'titulos': [], 'links': [], 'noticia': [], 'image': [], 'abstract': [], 'date': []}\n",
    "    if (article is not None):\n",
    "        row['titulos'].append(article.title)\n",
    "        row['noticia'].append(article.text)\n",
    "        row['links'].append(article.url)\n",
    "        row['abstract'].append(article.text)\n",
    "        row['date'].append(article.date_publish)\n",
    "        path_image = article.image_url\n",
    "        print(path_image)\n",
    "        if path_image == '' or path_image == None:\n",
    "            row['image'].append(0)\n",
    "        else:\n",
    "            row['image'].append(download_and_move_image(article.image_url))\n",
    "        news = News(row['abstract'], row['noticia'], row['date'], row['links'], row['titulos'], row['image'])\n",
    "        try:\n",
    "            print(row['titulos'])\n",
    "            news_in_db = midia_table.check_news(news)\n",
    "            print('news_in_db: ' + str(news_in_db))\n",
    "            if (not news_in_db):\n",
    "                row = pd.DataFrame(row)\n",
    "                df, categories = midia_lexical.lexical_corpus_and_title(row)\n",
    "                # DB categories\n",
    "                if (categories != [set()]):\n",
    "                    news.set_categories(categories)\n",
    "                    midia_table.save_news(news)\n",
    "                    midia_post.post_news(df)\n",
    "        except:\n",
    "            print('Empty News')"
   ]
  },
  {
   "cell_type": "code",
   "execution_count": null,
   "metadata": {},
   "outputs": [],
   "source": [
    "noticias[0]"
   ]
  }
 ],
 "metadata": {
  "kernelspec": {
   "display_name": "Python 3",
   "language": "python",
   "name": "python3"
  },
  "language_info": {
   "codemirror_mode": {
    "name": "ipython",
    "version": 3
   },
   "file_extension": ".py",
   "mimetype": "text/x-python",
   "name": "python",
   "nbconvert_exporter": "python",
   "pygments_lexer": "ipython3",
   "version": "3.6.5"
  }
 },
 "nbformat": 4,
 "nbformat_minor": 2
}
