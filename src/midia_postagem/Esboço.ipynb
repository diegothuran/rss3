{
 "cells": [
  {
   "cell_type": "code",
   "execution_count": 1,
   "metadata": {},
   "outputs": [],
   "source": [
    "import sys\n",
    "sys.path.insert(0, '../../src')\n",
    "import feedparser\n",
    "import pandas as pd\n",
    "\n",
    "import urllib\n",
    "\n",
    "from postagem.Util import extract_domain, download_and_move_image, get_noticia_comercio\n",
    "from lexical_analyzer_package import midia_lexical\n",
    "from midia_postagem import midia_post\n",
    "from Model.News import News\n",
    "from Database import midia_table\n",
    "\n",
    "from newsplease import NewsPlease\n",
    "from bs4 import BeautifulSoup\n",
    "import requests\n",
    "\n",
    "import datetime\n",
    "import util_midia"
   ]
  },
  {
   "cell_type": "code",
   "execution_count": 2,
   "metadata": {},
   "outputs": [],
   "source": [
    "link = 'https://www.brasildefato.com.br/ultimas_noticias/'"
   ]
  },
  {
   "cell_type": "code",
   "execution_count": 3,
   "metadata": {},
   "outputs": [],
   "source": [
    "link_site = 'https://www.brasildefato.com.br'"
   ]
  },
  {
   "cell_type": "code",
   "execution_count": 4,
   "metadata": {},
   "outputs": [],
   "source": [
    "req = requests.get(link)"
   ]
  },
  {
   "cell_type": "code",
   "execution_count": 5,
   "metadata": {},
   "outputs": [],
   "source": [
    "noticias = BeautifulSoup(req.text, \"html.parser\").find_all('div', class_='news-item-link divisor')"
   ]
  },
  {
   "cell_type": "code",
   "execution_count": 6,
   "metadata": {
    "scrolled": false
   },
   "outputs": [
    {
     "name": "stdout",
     "output_type": "stream",
     "text": [
      "/2018/11/07/juizas-e-juizes-se-encontram-no-recife-para-debater-violencia-contra-a-mulher/\n",
      "https://www.brasildefato.com.br/2018/11/07/juizas-e-juizes-se-encontram-no-recife-para-debater-violencia-contra-a-mulher/\n",
      "100% [............................................................................] 114618 / 11461843947604080_7a37bf1404_b.jpg\n",
      "C:\\Users\\admin\\rss3\\src\\midia_postagem\\images\\43947604080_7a37bf1404_b.jpg\n",
      "['Juízas E Juízes Se Encontram No Recife Para Debater Violência Contra a Mulher']\n",
      "news_in_db: False\n",
      " -- no categories -- \n",
      "https://www.brasildefato.com.br/2018/11/07/juizas-e-juizes-se-encontram-no-recife-para-debater-violencia-contra-a-mulher/\n",
      "/2018/11/07/lista-com-ameacas-a-professores-e-estudantes-e-veiculada-na-ufpe/\n",
      "https://www.brasildefato.com.br/2018/11/07/lista-com-ameacas-a-professores-e-estudantes-e-veiculada-na-ufpe/\n",
      "100% [............................................................................] 134963 / 13496345040104184_94e69fc9a5_b.jpg\n",
      "C:\\Users\\admin\\rss3\\src\\midia_postagem\\images\\45040104184_94e69fc9a5_b.jpg\n",
      "['Lista Com Ameaças Á Professores E Estudantes É Veiculada Na UFPE']\n",
      "news_in_db: False\n",
      " -- no categories -- \n",
      "https://www.brasildefato.com.br/2018/11/07/lista-com-ameacas-a-professores-e-estudantes-e-veiculada-na-ufpe/\n",
      "/2018/11/07/tres-poderes-no-brasil-eles-podem-mas-so-fazem-se-quiserem/\n",
      "https://www.brasildefato.com.br/2018/11/07/tres-poderes-no-brasil-eles-podem-mas-so-fazem-se-quiserem/\n",
      "100% [............................................................................] 376398 / 37639843947263800_8a3b6573b0_b.jpg\n",
      "C:\\Users\\admin\\rss3\\src\\midia_postagem\\images\\43947263800_8a3b6573b0_b.jpg\n",
      "['Três Poderes No Brasil: Eles Podem, Mas Só Fazem Se Quiserem']\n",
      "news_in_db: False\n",
      " -- no categories -- \n",
      "https://www.brasildefato.com.br/2018/11/07/tres-poderes-no-brasil-eles-podem-mas-so-fazem-se-quiserem/\n",
      "/2018/11/07/carta-aos-militantes-populares/\n",
      "https://www.brasildefato.com.br/2018/11/07/carta-aos-militantes-populares/\n",
      "100% [..............................................................................] 90536 / 9053644851463385_c02be92b99_b.jpg\n",
      "C:\\Users\\admin\\rss3\\src\\midia_postagem\\images\\44851463385_c02be92b99_b.jpg\n",
      "['O Golpe Foi Legitimado Nas Urnas. E Agora? Aos Militantes Populares']\n",
      "news_in_db: False\n",
      " -- no categories -- \n",
      "https://www.brasildefato.com.br/2018/11/07/carta-aos-militantes-populares/\n",
      "/2018/11/07/confira-a-edicao-desta-quarta-feira-7-da-rede-lula-livre/\n",
      "https://www.brasildefato.com.br/2018/11/07/confira-a-edicao-desta-quarta-feira-7-da-rede-lula-livre/\n",
      "100% [............................................................................] 343796 / 34379645764589331_1904fb6893_b.jpg\n",
      "C:\\Users\\admin\\rss3\\src\\midia_postagem\\images\\45764589331_1904fb6893_b.jpg\n",
      "['Confira a Edição Desta Quarta-Feira (7) Da Rede Lula Livre']\n",
      "news_in_db: False\n",
      " -- no categories -- \n",
      "https://www.brasildefato.com.br/2018/11/07/confira-a-edicao-desta-quarta-feira-7-da-rede-lula-livre/\n",
      "/2018/11/07/por-que-o-cultivo-e-o-uso-da-maconha-nao-sao-liberados-no-brasil/\n",
      "https://www.brasildefato.com.br/2018/11/07/por-que-o-cultivo-e-o-uso-da-maconha-nao-sao-liberados-no-brasil/\n",
      "100% [..............................................................................] 18735 / 1873545039517784_7bd654bb18_b.jpg\n",
      "C:\\Users\\admin\\rss3\\src\\midia_postagem\\images\\45039517784_7bd654bb18_b.jpg\n",
      "['Por Que O Cultivo E O Uso Da Maconha Não São Liberados No Brasil?']\n",
      "news_in_db: False\n",
      " -- no categories -- \n",
      "https://www.brasildefato.com.br/2018/11/07/por-que-o-cultivo-e-o-uso-da-maconha-nao-sao-liberados-no-brasil/\n",
      "/2018/11/07/bolsonaro-diz-que-mudanca-de-embaixada-em-israel-nao-foi-decidida-ainda/\n",
      "https://www.brasildefato.com.br/2018/11/07/bolsonaro-diz-que-mudanca-de-embaixada-em-israel-nao-foi-decidida-ainda/\n",
      "100% [..............................................................................] 98132 / 9813243946832210_407ebd6502_b.jpg\n",
      "C:\\Users\\admin\\rss3\\src\\midia_postagem\\images\\43946832210_407ebd6502_b.jpg\n",
      "['Bolsonaro Diz Que Mudança De Embaixada Em Israel \"Não Foi Decidida Ainda\"']\n",
      "news_in_db: False\n",
      " -- no categories -- \n",
      "https://www.brasildefato.com.br/2018/11/07/bolsonaro-diz-que-mudanca-de-embaixada-em-israel-nao-foi-decidida-ainda/\n",
      "/2018/11/07/eleicoes-nos-eua-democratas-ganham-controle-da-camara-e-republicanos-levam-senado/\n",
      "https://www.brasildefato.com.br/2018/11/07/eleicoes-nos-eua-democratas-ganham-controle-da-camara-e-republicanos-levam-senado/\n",
      "100% [............................................................................] 359307 / 35930731892963238_794cfd1734_b.jpg\n",
      "C:\\Users\\admin\\rss3\\src\\midia_postagem\\images\\31892963238_794cfd1734_b.jpg\n",
      "['Eleições Nos EUA: Democratas Ganham Controle Da Câmara, E Republicanos Levam Senado']\n",
      "news_in_db: False\n",
      " -- no categories -- \n",
      "https://www.brasildefato.com.br/2018/11/07/eleicoes-nos-eua-democratas-ganham-controle-da-camara-e-republicanos-levam-senado/\n",
      "/2018/11/07/democracia-dependera-do-funcionamento-das-instituicoes/\n",
      "https://www.brasildefato.com.br/2018/11/07/democracia-dependera-do-funcionamento-das-instituicoes/\n",
      "100% [............................................................................] 179639 / 17963944850440435_5f3f4e96be_b.jpg\n",
      "C:\\Users\\admin\\rss3\\src\\midia_postagem\\images\\44850440435_5f3f4e96be_b.jpg\n",
      "['Democracia Dependerá Do Funcionamento Das Instituições']\n",
      "news_in_db: False\n",
      " -- no categories -- \n",
      "https://www.brasildefato.com.br/2018/11/07/democracia-dependera-do-funcionamento-das-instituicoes/\n",
      "/2018/11/07/artigo-or-nos-e-eles-o-que-aprendemos/\n",
      "https://www.brasildefato.com.br/2018/11/07/artigo-or-nos-e-eles-o-que-aprendemos/\n",
      "100% [............................................................................] 129142 / 12914243946039660_05284bdb91_b.jpg\n",
      "C:\\Users\\admin\\rss3\\src\\midia_postagem\\images\\43946039660_05284bdb91_b.jpg\n",
      "['Nós E Eles: O Que Aprendemos?']\n",
      "news_in_db: False\n",
      " -- no categories -- \n",
      "https://www.brasildefato.com.br/2018/11/07/artigo-or-nos-e-eles-o-que-aprendemos/\n",
      "/2018/11/07/moro-exerce-atividade-politica-sem-pedir-exoneracao/\n",
      "https://www.brasildefato.com.br/2018/11/07/moro-exerce-atividade-politica-sem-pedir-exoneracao/\n",
      "100% [..............................................................................] 81716 / 8171643937203460_fd620e5a55_b.jpg\n",
      "C:\\Users\\admin\\rss3\\src\\midia_postagem\\images\\43937203460_fd620e5a55_b.jpg\n",
      "['Moro Exerce Atividade Política Sem Pedir Exoneração']\n",
      "news_in_db: False\n",
      " -- no categories -- \n",
      "https://www.brasildefato.com.br/2018/11/07/moro-exerce-atividade-politica-sem-pedir-exoneracao/\n",
      "/2018/11/07/0711-as-eleicoes-ja-foram-mas-a-ameaca-das-fake-news-continua/\n",
      "https://www.brasildefato.com.br/2018/11/07/0711-as-eleicoes-ja-foram-mas-a-ameaca-das-fake-news-continua/\n",
      "100% [..............................................................................] 90830 / 9083045754677481_6329fd62e8_b.jpg\n",
      "C:\\Users\\admin\\rss3\\src\\midia_postagem\\images\\45754677481_6329fd62e8_b.jpg\n",
      "['As Eleições Já Foram, Mas a Ameaça Das Fake News Continua']\n",
      "news_in_db: False\n",
      " -- no categories -- \n",
      "https://www.brasildefato.com.br/2018/11/07/0711-as-eleicoes-ja-foram-mas-a-ameaca-das-fake-news-continua/\n",
      "/2018/11/07/ouca-o-programa-brasil-de-fato-rio-de-janeiro-061118/\n",
      "https://www.brasildefato.com.br/2018/11/07/ouca-o-programa-brasil-de-fato-rio-de-janeiro-061118/\n",
      "100% [............................................................................] 362040 / 36204030815730117_d75e4ed95f_b.jpg\n",
      "C:\\Users\\admin\\rss3\\src\\midia_postagem\\images\\30815730117_d75e4ed95f_b.jpg\n",
      "['Ouça O Programa Brasil De Fato - Rio De Janeiro - 06/11/18']\n",
      "news_in_db: False\n",
      " -- no categories -- \n",
      "https://www.brasildefato.com.br/2018/11/07/ouca-o-programa-brasil-de-fato-rio-de-janeiro-061118/\n",
      "/2018/11/07/previsao-do-tempo-para-quarta-feira-07/\n",
      "https://www.brasildefato.com.br/2018/11/07/previsao-do-tempo-para-quarta-feira-07/\n",
      "100% [..............................................................................] 66187 / 6618744849061335_692cf29c4e_b.jpg\n",
      "C:\\Users\\admin\\rss3\\src\\midia_postagem\\images\\44849061335_692cf29c4e_b.jpg\n",
      "['Previsão Do Tempo Para Quarta-Feira (07)']\n",
      "news_in_db: False\n",
      " -- no categories -- \n",
      "https://www.brasildefato.com.br/2018/11/07/previsao-do-tempo-para-quarta-feira-07/\n",
      "/2018/11/07/eduardo-mara-no-revista-brasil-de-fato-pernambuco/\n",
      "https://www.brasildefato.com.br/2018/11/07/eduardo-mara-no-revista-brasil-de-fato-pernambuco/\n"
     ]
    },
    {
     "name": "stdout",
     "output_type": "stream",
     "text": [
      "100% [............................................................................] 248755 / 24875545007527444_1516701bdd_b.jpg\n",
      "C:\\Users\\admin\\rss3\\src\\midia_postagem\\images\\45007527444_1516701bdd_b.jpg\n",
      "['Eduardo Mara No Revista Brasil De Fato Pernambuco']\n",
      "news_in_db: False\n",
      " -- no categories -- \n",
      "https://www.brasildefato.com.br/2018/11/07/eduardo-mara-no-revista-brasil-de-fato-pernambuco/\n",
      "/2018/11/06/acampadas-ha-duas-decadas-familias-produtoras-do-cafe-guaii-sofrem-ameaca-de-despejo/\n",
      "https://www.brasildefato.com.br/2018/11/06/acampadas-ha-duas-decadas-familias-produtoras-do-cafe-guaii-sofrem-ameaca-de-despejo/\n",
      "100% [............................................................................] 196298 / 19629831883917748_d74e0473fe_b.jpg\n",
      "C:\\Users\\admin\\rss3\\src\\midia_postagem\\images\\31883917748_d74e0473fe_b.jpg\n",
      "['Acampadas Há Duas Décadas, Famílias Produtoras Do Café Guaií Sofrem Ameaça De Despejo']\n",
      "news_in_db: False\n",
      " -- no categories -- \n",
      "https://www.brasildefato.com.br/2018/11/06/acampadas-ha-duas-decadas-familias-produtoras-do-cafe-guaii-sofrem-ameaca-de-despejo/\n",
      "/2018/11/06/em-resposta-a-moro-lula-afirma-que-o-juiz-colaborou-para-a-eleicao-de-bolsonaro/\n",
      "https://www.brasildefato.com.br/2018/11/06/em-resposta-a-moro-lula-afirma-que-o-juiz-colaborou-para-a-eleicao-de-bolsonaro/\n",
      "100% [............................................................................] 170969 / 17096930815970527_bb3f0e8534_b.jpg\n",
      "C:\\Users\\admin\\rss3\\src\\midia_postagem\\images\\30815970527_bb3f0e8534_b.jpg\n",
      "['Em Resposta a Moro, Lula Afirma Que O Juiz Colaborou Para a Eleição De Bolsonaro']\n",
      "news_in_db: False\n",
      " -- no categories -- \n",
      "https://www.brasildefato.com.br/2018/11/06/em-resposta-a-moro-lula-afirma-que-o-juiz-colaborou-para-a-eleicao-de-bolsonaro/\n",
      "/2018/11/06/deputados-aprovam-federalizacao-de-caso-marielle-e-anderson/\n",
      "https://www.brasildefato.com.br/2018/11/06/deputados-aprovam-federalizacao-de-caso-marielle-e-anderson/\n",
      "100% [............................................................................] 116484 / 11648445755756461_e449fb3926_b.jpg\n",
      "C:\\Users\\admin\\rss3\\src\\midia_postagem\\images\\45755756461_e449fb3926_b.jpg\n",
      "['Deputados Aprovam Federalização De Caso Marielle E Anderson']\n",
      "news_in_db: False\n",
      " -- no categories -- \n",
      "https://www.brasildefato.com.br/2018/11/06/deputados-aprovam-federalizacao-de-caso-marielle-e-anderson/\n",
      "/2018/11/06/moro-aceitar-cargo-politico-nao-foi-decisao-politica/\n",
      "https://www.brasildefato.com.br/2018/11/06/moro-aceitar-cargo-politico-nao-foi-decisao-politica/\n",
      "100% [............................................................................] 100160 / 10016043938310620_b01469b45a_b.jpg\n",
      "C:\\Users\\admin\\rss3\\src\\midia_postagem\\images\\43938310620_b01469b45a_b.jpg\n",
      "['Moro: Aceitar Cargo Político Não Foi Decisão Política']\n",
      "news_in_db: False\n",
      " -- no categories -- \n",
      "https://www.brasildefato.com.br/2018/11/06/moro-aceitar-cargo-politico-nao-foi-decisao-politica/\n",
      "/2018/11/06/sob-a-sombra-de-bolsonaro-lei-de-reducao-de-agrotoxicos-avanca-na-camara/\n",
      "https://www.brasildefato.com.br/2018/11/06/sob-a-sombra-de-bolsonaro-lei-de-reducao-de-agrotoxicos-avanca-na-camara/\n",
      "100% [..............................................................................] 87805 / 8780545705574592_29d3c05e5e_b.jpg\n",
      "C:\\Users\\admin\\rss3\\src\\midia_postagem\\images\\45705574592_29d3c05e5e_b.jpg\n",
      "['Sob a Sombra De Bolsonaro, Lei De Redução De Agrotóxicos Avança Na Câmara']\n",
      "news_in_db: False\n",
      " -- no categories -- \n",
      "https://www.brasildefato.com.br/2018/11/06/sob-a-sombra-de-bolsonaro-lei-de-reducao-de-agrotoxicos-avanca-na-camara/\n"
     ]
    }
   ],
   "source": [
    "for noticia in noticias:\n",
    "    print(noticia.find_all('a', href=True)[0]['href']) \n",
    "    ref_link = noticia.find_all('a', href=True)[0]['href']\n",
    "    print(link_site+ref_link)\n",
    "    if (link_site not in ref_link):\n",
    "        util_midia.social_news_from_link(link_site+ref_link)\n",
    "        print(link_site+ref_link)\n",
    "    else:\n",
    "        util_midia.social_news_from_link(ref_link)\n",
    "        print(ref_link)"
   ]
  },
  {
   "cell_type": "code",
   "execution_count": 7,
   "metadata": {},
   "outputs": [
    {
     "data": {
      "text/plain": [
       "<div class=\"news-item-link divisor\"><a class=\"news-item\" href=\"/2018/11/07/juizas-e-juizes-se-encontram-no-recife-para-debater-violencia-contra-a-mulher/\" itemprop=\"itemListElement\" itemscope=\"\" itemtype=\"https://schema.org/ListItem\"><meta content=\"https://www.brasildefato.com.br//2018/11/07/juizas-e-juizes-se-encontram-no-recife-para-debater-violencia-contra-a-mulher/\" itemprop=\"url\"/><meta content=\"0\" itemprop=\"position\"/><div itemscope=\"\" itemtype=\"https://schema.org/NewsArticle\"><meta content=\"Da RedaÃ§Ã£o\" itemprop=\"author\"/><meta content=\"2018-11-07T13:47:54.751Z\" itemprop=\"dateModified\"/><meta content=\"https://www.brasildefato.com.br/ultimas_noticias/index.html\" itemprop=\"mainEntityOfPage\"/><span itemprop=\"publisher\" itemscope=\"\" itemtype=\"https://schema.org/Organization\"><span itemprop=\"logo\" itemscope=\"\" itemtype=\"https://schema.org/ImageObject\"><meta content=\"https://www.brasildefato.com.br/img/logo-microdata.jpg\" itemprop=\"url\"/><meta content=\"600\" itemprop=\"width\"/><meta content=\"60\" itemprop=\"height\"/></span><meta content=\"Brasil de Fato\" itemprop=\"name\"/><link href=\"https://www.brasildefato.com.br\" itemprop=\"sameAs\"/></span><div class=\"image\"><figure aria-label=\"DÃ©cima ediÃ§Ã£o do evento acontece esse ano no Recife - CrÃ©ditos: ReproduÃ§Ã£o\" itemprop=\"image\" itemscope=\"\" itemtype=\"http://schema.org/ImageObject\" style=\"background-image: url(//farm5.staticflickr.com/4844/43947604080_7a37bf1404_n.jpg);\" title=\"DÃ©cima ediÃ§Ã£o do evento acontece esse ano no Recife - CrÃ©ditos: ReproduÃ§Ã£o\"><meta content=\"696\" itemprop=\"width\"/><meta content=\"464\" itemprop=\"height\"/><meta content=\"http://www.brasildefato.com.br/undefined\" itemprop=\"url\"/></figure></div><div class=\"content no-image divisor\"><h3 class=\"title\" itemprop=\"headline\">JuÃ­zas e juÃ­zes se encontram no Recife para debater violÃªncia contra a mulher</h3><p class=\"description\" itemprop=\"description\">Meta Ã© ampliar as medidas jurÃ­dicas no combate a violÃªncia contra a mulher para o Direito, Psicologia e ServiÃ§o social</p><time class=\"date\" datetime=\"2018-11-07T13:47:54.751Z\" itemprop=\"datePublished\">Publicado em 7 de Novembro de 2018 Ã s 11:47</time></div></div></a></div>"
      ]
     },
     "execution_count": 7,
     "metadata": {},
     "output_type": "execute_result"
    }
   ],
   "source": [
    "noticias[0]"
   ]
  }
 ],
 "metadata": {
  "kernelspec": {
   "display_name": "Python 3",
   "language": "python",
   "name": "python3"
  },
  "language_info": {
   "codemirror_mode": {
    "name": "ipython",
    "version": 3
   },
   "file_extension": ".py",
   "mimetype": "text/x-python",
   "name": "python",
   "nbconvert_exporter": "python",
   "pygments_lexer": "ipython3",
   "version": "3.6.5"
  }
 },
 "nbformat": 4,
 "nbformat_minor": 2
}
